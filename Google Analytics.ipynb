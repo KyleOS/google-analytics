{
 "cells": [
  {
   "cell_type": "markdown",
   "metadata": {},
   "source": [
    "## Google Analytics Reports"
   ]
  },
  {
   "cell_type": "markdown",
   "metadata": {},
   "source": [
    "#### Tutorial on Install Google API Client\n",
    "\n",
    "This notebook takes you through connecting with the Google Analytics Reporting API. Pulling the data and converting into table format, then visualising the result on a chart. \n",
    "\n",
    "##### Walkthrough to connect to the API:\n",
    "1. Google Developer: https://developers.google.com/analytics/devguides/reporting/core/v4/quickstart/service-py\n",
    "2. Other Walkthrough: https://www.jcchouinard.com/google-analytics-api-using-python/\n",
    "\n",
    "##### Required Installations:\n",
    "- conda install -c conda-forge google-api-python-client\n",
    "- pip install --upgrade google-api-python-client\n",
    "- pip3 install --upgrade oauth2client"
   ]
  },
  {
   "cell_type": "code",
   "execution_count": 225,
   "metadata": {},
   "outputs": [],
   "source": [
    "# Load Libraries\n",
    "from oauth2client.service_account import ServiceAccountCredentials\n",
    "from googleapiclient.discovery import build\n",
    "import httplib2\n",
    "import pandas as pd\n",
    "import seaborn as sns\n",
    "import matplotlib.ticker as ticker\n",
    "import matplotlib.pyplot as plt\n",
    "%matplotlib inline\n",
    "sns.set_style(\"white\")"
   ]
  },
  {
   "cell_type": "code",
   "execution_count": 226,
   "metadata": {},
   "outputs": [],
   "source": [
    "# Load keys and ids\n",
    "SCOPES = ['https://www.googleapis.com/auth/analytics.readonly']\n",
    "KEY_FILE_LOCATION = 'client_secrets.json' # Enable Google Aanalytics Reporting API and Generate key \n",
    "VIEW_ID = 'XXXXXXX' #Go to Google Analytics > Admin > View > View Settings and copy the View ID."
   ]
  },
  {
   "cell_type": "markdown",
   "metadata": {},
   "source": [
    "#### Functions to pull report data from API"
   ]
  },
  {
   "cell_type": "code",
   "execution_count": 242,
   "metadata": {},
   "outputs": [],
   "source": [
    "def initialize_analyticsreporting():\n",
    "    \"\"\"Initializes an Analytics Reporting API V4 service object.\n",
    "\n",
    "    Returns:\n",
    "    An authorized Analytics Reporting API V4 service object.\n",
    "    \"\"\"\n",
    "    credentials = ServiceAccountCredentials.from_json_keyfile_name(\n",
    "      KEY_FILE_LOCATION, SCOPES)\n",
    "\n",
    "    # Build the service object.\n",
    "    analytics = build('analyticsreporting', 'v4', credentials=credentials)\n",
    "\n",
    "    return analytics\n"
   ]
  },
  {
   "cell_type": "code",
   "execution_count": 243,
   "metadata": {},
   "outputs": [],
   "source": [
    "def get_report(analytics,request):\n",
    "    \"\"\"Queries the Analytics Reporting API V4.\n",
    "\n",
    "    Args:\n",
    "    analytics: An authorized Analytics Reporting API V4 service object.\n",
    "    Returns:\n",
    "    The Analytics Reporting API V4 response.\n",
    "    \"\"\"\n",
    "    return analytics.reports().batchGet(\n",
    "      body={\n",
    "        'reportRequests': [\n",
    "        request\n",
    "        ]\n",
    "      }\n",
    "    ).execute()"
   ]
  },
  {
   "cell_type": "code",
   "execution_count": 244,
   "metadata": {},
   "outputs": [],
   "source": [
    "def main(request):\n",
    "    analytics = initialize_analyticsreporting()\n",
    "    response = get_report(analytics,request)\n",
    "    return response\n"
   ]
  },
  {
   "cell_type": "markdown",
   "metadata": {},
   "source": [
    "#### Parsing the response into a table"
   ]
  },
  {
   "cell_type": "code",
   "execution_count": 245,
   "metadata": {},
   "outputs": [],
   "source": [
    "def parseResponse(response):\n",
    "\n",
    "    #Create two empty lists that will hold our dimensions and values\n",
    "    dim = []\n",
    "    val = []\n",
    "\n",
    "    #Extract Data\n",
    "    for report in response.get('reports', []):\n",
    "\n",
    "        columnHeader = report.get('columnHeader', {})\n",
    "        dimensionHeaders = columnHeader.get('dimensions', [])\n",
    "        metricHeaders = columnHeader.get('metricHeader', {}).get('metricHeaderEntries', [])\n",
    "        rows = report.get('data', {}).get('rows', [])\n",
    "\n",
    "        for row in rows:\n",
    "\n",
    "            dimensions = row.get('dimensions', [])\n",
    "            dateRangeValues = row.get('metrics', [])\n",
    "\n",
    "            for header, dimension in zip(dimensionHeaders, dimensions):\n",
    "                dim.append(dimension)\n",
    "\n",
    "            for i, values in enumerate(dateRangeValues):\n",
    "                value = values.get('values')\n",
    "                val.append(value)                    \n",
    "    return dim, val\n"
   ]
  },
  {
   "cell_type": "code",
   "execution_count": 454,
   "metadata": {},
   "outputs": [],
   "source": [
    "#### Faking the function to pulling in dummy data = hidden\n",
    "\n",
    "def main(request):\n",
    "    return request\n",
    "\n",
    "def parseResponse(reponse):\n",
    "    dim = []\n",
    "    val = []\n",
    "    # open file and read the content in a list\n",
    "    with open('data/data_'+str(reponse)+'_1.txt', 'r') as filehandle:\n",
    "        for line in filehandle:\n",
    "            temp = line[:-1]\n",
    "            dim.append(temp)\n",
    "            \n",
    "    with open('data/data_'+str(reponse)+'_2.txt', 'r') as filehandle:\n",
    "        for line in filehandle:\n",
    "            temp = line[:-1]\n",
    "            temp = temp.replace(\"[\",\"\").replace(\"]\",\"\").replace(\"'\",\"\")\n",
    "            #temp = temp.replace(\"'\",\"\")\n",
    "            temp = temp.split(',')\n",
    "            temp_list = []\n",
    "            for e in temp:\n",
    "                temp_list.append(e)\n",
    "            val.append(temp_list)\n",
    "            \n",
    "    return dim,val"
   ]
  },
  {
   "cell_type": "markdown",
   "metadata": {},
   "source": [
    "#### Pulling and Visualising the Data "
   ]
  },
  {
   "cell_type": "markdown",
   "metadata": {},
   "source": [
    "Google Analytics Metric and Dimension Explorer: https://ga-dev-tools.appspot.com/dimensions-metrics-explorer/"
   ]
  },
  {
   "cell_type": "markdown",
   "metadata": {},
   "source": [
    "##### 1. How many organic visits do we have over time?\n",
    "\n",
    "In the filter we retrieve only sessions that came from a direct source"
   ]
  },
  {
   "cell_type": "code",
   "execution_count": 429,
   "metadata": {},
   "outputs": [],
   "source": [
    "# Run Functions\n",
    "request = {\n",
    "                'viewId': VIEW_ID, \n",
    "                'dateRanges': [{'startDate': '2019-01-01', \n",
    "                                'endDate': '2019-06-01'}],\n",
    "                'metrics': [{'expression': 'ga:sessions'}], \n",
    "                'dimensions': [{\"name\":\"ga:date\"}], \n",
    "                'filtersExpression':'ga:Source=~direct', # Filter direct traffic only \n",
    "                'orderBys': [{\"fieldName\": \"ga:date\", \"sortOrder\": \"ASCENDING\"}], \n",
    "                'pageSize': 100\n",
    "            }"
   ]
  },
  {
   "cell_type": "code",
   "execution_count": 430,
   "metadata": {},
   "outputs": [],
   "source": [
    "request = 1 # hidden"
   ]
  },
  {
   "cell_type": "code",
   "execution_count": 431,
   "metadata": {},
   "outputs": [],
   "source": [
    "response = main(request) # Pull API data into dictionary\n",
    "parsed_data = parseResponse(response) # Parse data into Lists"
   ]
  },
  {
   "cell_type": "code",
   "execution_count": 432,
   "metadata": {},
   "outputs": [],
   "source": [
    "# Create a DataFrame with the Data\n",
    "df = pd.concat([pd.DataFrame(parsed_data[0]),pd.DataFrame(parsed_data[1])],axis=1)\n",
    "df.columns = ['Date','Sessions']"
   ]
  },
  {
   "cell_type": "code",
   "execution_count": 433,
   "metadata": {},
   "outputs": [
    {
     "data": {
      "text/html": [
       "<div>\n",
       "<style scoped>\n",
       "    .dataframe tbody tr th:only-of-type {\n",
       "        vertical-align: middle;\n",
       "    }\n",
       "\n",
       "    .dataframe tbody tr th {\n",
       "        vertical-align: top;\n",
       "    }\n",
       "\n",
       "    .dataframe thead th {\n",
       "        text-align: right;\n",
       "    }\n",
       "</style>\n",
       "<table border=\"1\" class=\"dataframe\">\n",
       "  <thead>\n",
       "    <tr style=\"text-align: right;\">\n",
       "      <th></th>\n",
       "      <th>Date</th>\n",
       "      <th>Sessions</th>\n",
       "    </tr>\n",
       "  </thead>\n",
       "  <tbody>\n",
       "    <tr>\n",
       "      <th>0</th>\n",
       "      <td>20190101</td>\n",
       "      <td>3</td>\n",
       "    </tr>\n",
       "    <tr>\n",
       "      <th>1</th>\n",
       "      <td>20190102</td>\n",
       "      <td>10</td>\n",
       "    </tr>\n",
       "    <tr>\n",
       "      <th>2</th>\n",
       "      <td>20190103</td>\n",
       "      <td>13</td>\n",
       "    </tr>\n",
       "    <tr>\n",
       "      <th>3</th>\n",
       "      <td>20190104</td>\n",
       "      <td>8</td>\n",
       "    </tr>\n",
       "    <tr>\n",
       "      <th>4</th>\n",
       "      <td>20190105</td>\n",
       "      <td>9</td>\n",
       "    </tr>\n",
       "  </tbody>\n",
       "</table>\n",
       "</div>"
      ],
      "text/plain": [
       "       Date Sessions\n",
       "0  20190101        3\n",
       "1  20190102       10\n",
       "2  20190103       13\n",
       "3  20190104        8\n",
       "4  20190105        9"
      ]
     },
     "execution_count": 433,
     "metadata": {},
     "output_type": "execute_result"
    }
   ],
   "source": [
    "# View the data\n",
    "df.head()"
   ]
  },
  {
   "cell_type": "code",
   "execution_count": 434,
   "metadata": {},
   "outputs": [],
   "source": [
    "# Convert Date column to date type\n",
    "df2 = df.copy()\n",
    "df2['Date'] = df2['Date'].str.slice(0,4)+'-'+df2['Date'].str.slice(4,6)+'-'+df2['Date'].str.slice(6,8)\n",
    "df2['Date'] = pd.to_datetime(df2['Date'])\n",
    "\n",
    "# Convert metrics to numeric\n",
    "df2['Sessions'] = df2['Sessions'].astype('float64')"
   ]
  },
  {
   "cell_type": "code",
   "execution_count": 435,
   "metadata": {},
   "outputs": [
    {
     "data": {
      "image/png": "[encoded data removed]",
      "text/plain": [
       "<Figure size 864x360 with 1 Axes>"
      ]
     },
     "metadata": {},
     "output_type": "display_data"
    }
   ],
   "source": [
    "# Chart the data\n",
    "fig, ax = plt.subplots(figsize=(12,5))\n",
    "ax = sns.lineplot(data=df2, x='Date',y='Sessions')\n",
    "sns.despine(left=True)\n",
    "ax.set_title('Organic Visits over Time');"
   ]
  },
  {
   "cell_type": "markdown",
   "metadata": {},
   "source": [
    "##### 2. From which sources does most of the traffic come from?"
   ]
  },
  {
   "cell_type": "code",
   "execution_count": 436,
   "metadata": {},
   "outputs": [],
   "source": [
    "# Run Functions\n",
    "request = {\n",
    "                'viewId': VIEW_ID, \n",
    "                'dateRanges': [{'startDate': '2019-01-01', \n",
    "                                'endDate': '2019-06-01'}],\n",
    "                'metrics': [{'expression': 'ga:sessions'},{'expression': 'ga:users'}], \n",
    "                'dimensions': [{\"name\":\"ga:Source\"}], \n",
    "                'orderBys': [{\"fieldName\": \"ga:Sessions\", \"sortOrder\": \"DESCENDING\"}], \n",
    "                'pageSize': 10\n",
    "            }"
   ]
  },
  {
   "cell_type": "code",
   "execution_count": 437,
   "metadata": {},
   "outputs": [],
   "source": [
    "request = 2 # hidden"
   ]
  },
  {
   "cell_type": "code",
   "execution_count": 438,
   "metadata": {},
   "outputs": [],
   "source": [
    "response = main(request) # Pull API data into dictionary\n",
    "parsed_data = parseResponse(response) # Parse data into Lists"
   ]
  },
  {
   "cell_type": "code",
   "execution_count": 439,
   "metadata": {},
   "outputs": [
    {
     "data": {
      "text/html": [
       "<div>\n",
       "<style scoped>\n",
       "    .dataframe tbody tr th:only-of-type {\n",
       "        vertical-align: middle;\n",
       "    }\n",
       "\n",
       "    .dataframe tbody tr th {\n",
       "        vertical-align: top;\n",
       "    }\n",
       "\n",
       "    .dataframe thead th {\n",
       "        text-align: right;\n",
       "    }\n",
       "</style>\n",
       "<table border=\"1\" class=\"dataframe\">\n",
       "  <thead>\n",
       "    <tr style=\"text-align: right;\">\n",
       "      <th></th>\n",
       "      <th>Source</th>\n",
       "      <th>Sessions</th>\n",
       "      <th>Users</th>\n",
       "    </tr>\n",
       "  </thead>\n",
       "  <tbody>\n",
       "    <tr>\n",
       "      <th>0</th>\n",
       "      <td>google</td>\n",
       "      <td>5353</td>\n",
       "      <td>4164</td>\n",
       "    </tr>\n",
       "    <tr>\n",
       "      <th>1</th>\n",
       "      <td>(direct)</td>\n",
       "      <td>3511</td>\n",
       "      <td>2354</td>\n",
       "    </tr>\n",
       "    <tr>\n",
       "      <th>2</th>\n",
       "      <td>m.facebook.com</td>\n",
       "      <td>691</td>\n",
       "      <td>602</td>\n",
       "    </tr>\n",
       "    <tr>\n",
       "      <th>3</th>\n",
       "      <td>instagram.com</td>\n",
       "      <td>217</td>\n",
       "      <td>215</td>\n",
       "    </tr>\n",
       "    <tr>\n",
       "      <th>4</th>\n",
       "      <td>l.instagram.com</td>\n",
       "      <td>156</td>\n",
       "      <td>148</td>\n",
       "    </tr>\n",
       "  </tbody>\n",
       "</table>\n",
       "</div>"
      ],
      "text/plain": [
       "            Source Sessions  Users\n",
       "0           google     5353   4164\n",
       "1         (direct)     3511   2354\n",
       "2   m.facebook.com      691    602\n",
       "3    instagram.com      217    215\n",
       "4  l.instagram.com      156    148"
      ]
     },
     "execution_count": 439,
     "metadata": {},
     "output_type": "execute_result"
    }
   ],
   "source": [
    "# Create a DataFrame with the Data\n",
    "df = pd.concat([pd.DataFrame(parsed_data[0]),pd.DataFrame(parsed_data[1])],axis=1)\n",
    "df.columns = ['Source','Sessions','Users']\n",
    "\n",
    "# View the data\n",
    "df.head()"
   ]
  },
  {
   "cell_type": "code",
   "execution_count": 440,
   "metadata": {},
   "outputs": [],
   "source": [
    "# Convert metrics to numeric\n",
    "df2 = df.copy()\n",
    "df2['Sessions'] = df2['Sessions'].astype('float64')\n",
    "df2['Users'] = df2['Users'].astype('float64')"
   ]
  },
  {
   "cell_type": "code",
   "execution_count": 441,
   "metadata": {},
   "outputs": [
    {
     "data": {
      "text/html": [
       "<div>\n",
       "<style scoped>\n",
       "    .dataframe tbody tr th:only-of-type {\n",
       "        vertical-align: middle;\n",
       "    }\n",
       "\n",
       "    .dataframe tbody tr th {\n",
       "        vertical-align: top;\n",
       "    }\n",
       "\n",
       "    .dataframe thead th {\n",
       "        text-align: right;\n",
       "    }\n",
       "</style>\n",
       "<table border=\"1\" class=\"dataframe\">\n",
       "  <thead>\n",
       "    <tr style=\"text-align: right;\">\n",
       "      <th></th>\n",
       "      <th>Source</th>\n",
       "      <th>Type</th>\n",
       "      <th>metric</th>\n",
       "    </tr>\n",
       "  </thead>\n",
       "  <tbody>\n",
       "    <tr>\n",
       "      <th>0</th>\n",
       "      <td>google</td>\n",
       "      <td>Sessions</td>\n",
       "      <td>5353.0</td>\n",
       "    </tr>\n",
       "    <tr>\n",
       "      <th>1</th>\n",
       "      <td>(direct)</td>\n",
       "      <td>Sessions</td>\n",
       "      <td>3511.0</td>\n",
       "    </tr>\n",
       "    <tr>\n",
       "      <th>2</th>\n",
       "      <td>m.facebook.com</td>\n",
       "      <td>Sessions</td>\n",
       "      <td>691.0</td>\n",
       "    </tr>\n",
       "    <tr>\n",
       "      <th>3</th>\n",
       "      <td>instagram.com</td>\n",
       "      <td>Sessions</td>\n",
       "      <td>217.0</td>\n",
       "    </tr>\n",
       "    <tr>\n",
       "      <th>4</th>\n",
       "      <td>l.instagram.com</td>\n",
       "      <td>Sessions</td>\n",
       "      <td>156.0</td>\n",
       "    </tr>\n",
       "  </tbody>\n",
       "</table>\n",
       "</div>"
      ],
      "text/plain": [
       "            Source      Type  metric\n",
       "0           google  Sessions  5353.0\n",
       "1         (direct)  Sessions  3511.0\n",
       "2   m.facebook.com  Sessions   691.0\n",
       "3    instagram.com  Sessions   217.0\n",
       "4  l.instagram.com  Sessions   156.0"
      ]
     },
     "execution_count": 441,
     "metadata": {},
     "output_type": "execute_result"
    }
   ],
   "source": [
    "# Transform data\n",
    "df3 = pd.melt(df2,id_vars=\"Source\",var_name=\"Type\",value_name=\"metric\")\n",
    "df3.head()"
   ]
  },
  {
   "cell_type": "code",
   "execution_count": 442,
   "metadata": {},
   "outputs": [
    {
     "data": {
      "image/png": "[encoded data removed]",
      "text/plain": [
       "<Figure size 720x432 with 1 Axes>"
      ]
     },
     "metadata": {},
     "output_type": "display_data"
    }
   ],
   "source": [
    "# Chart the data\n",
    "fig, ax = plt.subplots(figsize=(10,6))\n",
    "ax = sns.barplot(data=df3, y='Source',x='metric',hue='Type')\n",
    "sns.despine(left=True)\n",
    "ax.set_title('Organic Visits over Time');"
   ]
  },
  {
   "cell_type": "markdown",
   "metadata": {},
   "source": [
    "##### 3. What is the distribution of session duration?"
   ]
  },
  {
   "cell_type": "code",
   "execution_count": 445,
   "metadata": {},
   "outputs": [],
   "source": [
    "# Run Functions\n",
    "request = {\n",
    "                'viewId': VIEW_ID, \n",
    "                'dateRanges': [{'startDate': '2019-01-01', \n",
    "                                'endDate': '2019-06-01'}],\n",
    "                'metrics': [{'expression': 'ga:sessions'}], \n",
    "                'dimensions': [{\"name\":\"ga:sessionDurationBucket\"}], \n",
    "                #'orderBys': [{\"fieldName\": \"ga:sessionDurationBucket\", \"sortOrder\": \"DESCENDING\"}], \n",
    "                #'pageSize': 20\n",
    "            }"
   ]
  },
  {
   "cell_type": "code",
   "execution_count": 446,
   "metadata": {},
   "outputs": [],
   "source": [
    "request = 3 # hidden"
   ]
  },
  {
   "cell_type": "code",
   "execution_count": 447,
   "metadata": {},
   "outputs": [],
   "source": [
    "response = main(request) # Pull API data into dictionary\n",
    "parsed_data = parseResponse(response) # Parse data into Lists"
   ]
  },
  {
   "cell_type": "code",
   "execution_count": 448,
   "metadata": {},
   "outputs": [
    {
     "data": {
      "text/html": [
       "<div>\n",
       "<style scoped>\n",
       "    .dataframe tbody tr th:only-of-type {\n",
       "        vertical-align: middle;\n",
       "    }\n",
       "\n",
       "    .dataframe tbody tr th {\n",
       "        vertical-align: top;\n",
       "    }\n",
       "\n",
       "    .dataframe thead th {\n",
       "        text-align: right;\n",
       "    }\n",
       "</style>\n",
       "<table border=\"1\" class=\"dataframe\">\n",
       "  <thead>\n",
       "    <tr style=\"text-align: right;\">\n",
       "      <th></th>\n",
       "      <th>Session Duration</th>\n",
       "      <th>Count</th>\n",
       "    </tr>\n",
       "  </thead>\n",
       "  <tbody>\n",
       "    <tr>\n",
       "      <th>0</th>\n",
       "      <td>0</td>\n",
       "      <td>6608</td>\n",
       "    </tr>\n",
       "    <tr>\n",
       "      <th>1</th>\n",
       "      <td>1</td>\n",
       "      <td>10</td>\n",
       "    </tr>\n",
       "    <tr>\n",
       "      <th>2</th>\n",
       "      <td>10</td>\n",
       "      <td>22</td>\n",
       "    </tr>\n",
       "    <tr>\n",
       "      <th>3</th>\n",
       "      <td>100</td>\n",
       "      <td>12</td>\n",
       "    </tr>\n",
       "    <tr>\n",
       "      <th>4</th>\n",
       "      <td>1000</td>\n",
       "      <td>1</td>\n",
       "    </tr>\n",
       "  </tbody>\n",
       "</table>\n",
       "</div>"
      ],
      "text/plain": [
       "  Session Duration Count\n",
       "0                0  6608\n",
       "1                1    10\n",
       "2               10    22\n",
       "3              100    12\n",
       "4             1000     1"
      ]
     },
     "execution_count": 448,
     "metadata": {},
     "output_type": "execute_result"
    }
   ],
   "source": [
    "# Create a DataFrame with the Data\n",
    "df = pd.concat([pd.DataFrame(parsed_data[0]),pd.DataFrame(parsed_data[1])],axis=1)\n",
    "df.columns = ['Session Duration','Count']\n",
    "\n",
    "# View the data\n",
    "df.head()"
   ]
  },
  {
   "cell_type": "code",
   "execution_count": 449,
   "metadata": {},
   "outputs": [],
   "source": [
    "# Convert metrics to numeric\n",
    "df2 = df.copy()\n",
    "df2['Session Duration'] = df2['Session Duration'].astype('float64')\n",
    "df2['Count'] = df2['Count'].astype('float64')\n",
    "\n",
    "df2 = df2.loc[df2['Session Duration'] != 0,:] # remove session duration = 0\n",
    "df2 = df2.sort_values('Session Duration').\\\n",
    "    reset_index().\\\n",
    "    drop('index',axis=1) # sort values by session duration"
   ]
  },
  {
   "cell_type": "code",
   "execution_count": 450,
   "metadata": {},
   "outputs": [],
   "source": [
    "# Remove session durations with less than 10 count\n",
    "df3 = df2.loc[(df2.Count > 10),:] "
   ]
  },
  {
   "cell_type": "code",
   "execution_count": 451,
   "metadata": {},
   "outputs": [
    {
     "data": {
      "image/png": "[encoded data removed]",
      "text/plain": [
       "<Figure size 720x432 with 1 Axes>"
      ]
     },
     "metadata": {},
     "output_type": "display_data"
    }
   ],
   "source": [
    "# Chart the data\n",
    "fig, ax = plt.subplots(figsize=(10,6))\n",
    "ax = sns.barplot(data=df3, y='Count',x='Session Duration',\n",
    "                palette = 'Blues_r')\n",
    "sns.despine(left=True)\n",
    "ax.set_title('Session Duration');\n",
    "ax.xaxis.set_major_locator(ticker.MultipleLocator(5))"
   ]
  },
  {
   "cell_type": "code",
   "execution_count": 452,
   "metadata": {},
   "outputs": [],
   "source": [
    "# with open('data_1_1.txt', 'w') as filehandle:\n",
    "#     for listitem in parsed_data[0]:\n",
    "#         filehandle.write('%s\\n' % listitem)\n",
    "# with open('data_1_2.txt', 'w') as filehandle:\n",
    "#     for listitem in parsed_data[1]:\n",
    "#         filehandle.write('%s\\n' % listitem)"
   ]
  },
  {
   "cell_type": "code",
   "execution_count": null,
   "metadata": {},
   "outputs": [],
   "source": []
  }
 ],
 "metadata": {
  "kernelspec": {
   "display_name": "Python 3",
   "language": "python",
   "name": "python3"
  },
  "language_info": {
   "codemirror_mode": {
    "name": "ipython",
    "version": 3
   },
   "file_extension": ".py",
   "mimetype": "text/x-python",
   "name": "python",
   "nbconvert_exporter": "python",
   "pygments_lexer": "ipython3",
   "version": "3.6.4"
  }
 },
 "nbformat": 4,
 "nbformat_minor": 2
}
