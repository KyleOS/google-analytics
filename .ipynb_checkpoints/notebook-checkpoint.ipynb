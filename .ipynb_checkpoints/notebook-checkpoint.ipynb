{
 "cells": [
  {
   "cell_type": "markdown",
   "metadata": {},
   "source": [
    "## SEO Dashboard with Google Analytics Data\n",
    "\n",
    "This report explores how we can pull in website data from Google Analytics and find insights on SEO. If you want to run this notebook, the install instructions are kept [in the Readme.md](/Readme.md).\n",
    "\n",
    "### Introduction\n",
    "\n",
    "Google Analytics is a website traffic analysis application that provides real-time statistics and analysis of user interaction with the website. Google analytics enables website owners to analyze their visitors, with the objective of interpreting and optimizing website's performance.\n",
    "\n",
    "In this report we will learn how to pull in the data using the Google Analytics Reporting API and graph some interesting SEO metrics to show meaningful insights."
   ]
  },
  {
   "cell_type": "code",
   "execution_count": 1,
   "metadata": {},
   "outputs": [
    {
     "data": {
      "text/html": [
       "        <script type=\"text/javascript\">\n",
       "        window.PlotlyConfig = {MathJaxConfig: 'local'};\n",
       "        if (window.MathJax) {MathJax.Hub.Config({SVG: {font: \"STIX-Web\"}});}\n",
       "        if (typeof require !== 'undefined') {\n",
       "        require.undef(\"plotly\");\n",
       "        requirejs.config({\n",
       "            paths: {\n",
       "                'plotly': ['https://cdn.plot.ly/plotly-latest.min']\n",
       "            }\n",
       "        });\n",
       "        require(['plotly'], function(Plotly) {\n",
       "            window._Plotly = Plotly;\n",
       "        });\n",
       "        }\n",
       "        </script>\n",
       "        "
      ]
     },
     "metadata": {},
     "output_type": "display_data"
    }
   ],
   "source": [
    "from oauth2client.service_account import ServiceAccountCredentials\n",
    "from googleapiclient.discovery import build\n",
    "import httplib2\n",
    "import pandas as pd\n",
    "import json\n",
    "import numpy as np\n",
    "\n",
    "import plotly.offline as py\n",
    "import plotly.graph_objs as go\n",
    "import cufflinks as cf\n",
    "from cufflinks import tools\n",
    "from pandas.io.json import json_normalize"
   ]
  },
  {
   "cell_type": "markdown",
   "metadata": {},
   "source": [
    "### Create Globsal Variables For Data Access\n",
    "\n",
    "If you haven't already, check out the Readme.md file on this repository for instructions on how to creeate a project in the Google API Console, to enable the API, and create the key file, which you should save to this directory.\n",
    "\n",
    "**Remeber to add the _client_secrets.json_ file to your .gitignore!**\n",
    "\n",
    "Replace the VIEW_ID value with your own. You can use the [Account Explorer](https://ga-dev-tools.appspot.com/account-explorer/) to find your View ID."
   ]
  },
  {
   "cell_type": "code",
   "execution_count": 2,
   "metadata": {},
   "outputs": [],
   "source": [
    "SCOPES = ['https://www.googleapis.com/auth/analytics.readonly']\n",
    "KEY_FILE_LOCATION = 'client_secrets.json'\n",
    "VIEW_ID = '139131559'"
   ]
  },
  {
   "cell_type": "markdown",
   "metadata": {},
   "source": [
    "### Define Functions To Pull In Our Data\n",
    "\n",
    "Below we are defining our functions that will 1.) initialize an Analytics Reporting API V4 service object with our credentials created above, and 2.) will query this Analytics Reporting API and returns its response."
   ]
  },
  {
   "cell_type": "markdown",
   "metadata": {},
   "source": [
    "## Analyzing Key SEO Metrics\n",
    "\n",
    "Imagine we are a startup that has recently doubled-down on their SEO efforts through its content marketing strategy, publishing and distributing various types of content across multiple channels. Let's get a broad overview of how this strategy is working for us."
   ]
  },
  {
   "cell_type": "markdown",
   "metadata": {},
   "source": [
    "***\n",
    "The [Google Analytics Metric and Dimension Explorer](https://ga-dev-tools.appspot.com/dimensions-metrics-explorer/) is a great resource to use when searching for the dimensions and metrics you want to visualize, which will largely depend on your business and your digital marketing strategy.\n",
    "***"
   ]
  },
  {
   "cell_type": "markdown",
   "metadata": {},
   "source": [
    "### Has Our Organic Traffic Improved Over Time?\n",
    "\n",
    "- Let's pull in the data we need to answer this question. The main dimension is *date*, and we want to look at the *Medium*, split between Organic Traffic (labelled as *(none)*) and Non-Organic Traffic *(all other)*."
   ]
  },
  {
   "cell_type": "code",
   "execution_count": 4,
   "metadata": {},
   "outputs": [],
   "source": [
    "organic_query = {\n",
    "                'viewId': VIEW_ID, \n",
    "                'dateRanges': [{'startDate': '2019-01-01', \n",
    "                                'endDate': '2019-06-01'}],\n",
    "                'metrics': [{'expression': 'ga:sessions'}], \n",
    "                'dimensions': [{\"name\":\"ga:yearweek\"}], \n",
    "                'filtersExpression':'ga:medium=~(none)'\n",
    "            }\n",
    "\n",
    "nonorganic_query = {\n",
    "                'viewId': VIEW_ID, \n",
    "                'dateRanges': [{'startDate': '2019-01-01', \n",
    "                                'endDate': '2019-06-01'}],\n",
    "                'metrics': [{'expression': 'ga:sessions'}], \n",
    "                'dimensions': [{\"name\":\"ga:yearweek\"}], \n",
    "                'filtersExpression':'ga:medium!=~(none)'\n",
    "            }\n",
    "\n",
    "top_landing_pages_query = {\n",
    "                'viewId': VIEW_ID, \n",
    "                'dateRanges': [{'startDate': '2019-01-01', \n",
    "                                'endDate': '2019-06-01'}],\n",
    "                'metrics': [{'expression': 'ga:pageviews'},\n",
    "                            {'expression': 'ga:avgSessionDuration'},\n",
    "                           {'expression': 'ga:bounceRate'}], \n",
    "                'dimensions': [{\"name\":\"ga:landingPagePath\"}],\n",
    "                'orderBys': [{\"fieldName\": \"ga:pageviews\", \"sortOrder\": \"DESCENDING\"}], \n",
    "            }\n",
    "\n",
    "credentials = ServiceAccountCredentials.from_json_keyfile_name(KEY_FILE_LOCATION, SCOPES)\n",
    "analytics = build('analyticsreporting', 'v4', credentials=credentials)"
   ]
  },
  {
   "cell_type": "code",
   "execution_count": 7,
   "metadata": {},
   "outputs": [],
   "source": [
    "response = analytics.reports().batchGet( body={ \n",
    "    'reportRequests': [\n",
    "        organic_query,\n",
    "        nonorganic_query,\n",
    "        top_landing_pages_query\n",
    "    ] \n",
    "} ).execute();"
   ]
  },
  {
   "cell_type": "markdown",
   "metadata": {},
   "source": [
    "# Prepare the dataframes"
   ]
  },
  {
   "cell_type": "code",
   "execution_count": 37,
   "metadata": {},
   "outputs": [],
   "source": [
    "df_sessions = pd.DataFrame({\n",
    "    'Date': [x['dimensions'][0] for x in response['reports'][0]['data']['rows']],\n",
    "    'Organic Sessions': [x['metrics'][0]['values'][0] for x in response['reports'][0]['data']['rows']],\n",
    "    'Non-organic Sessions': [x['metrics'][0]['values'][0] for x in response['reports'][1]['data']['rows']],\n",
    "})\n",
    "\n",
    "df_sessions['Date'] = df_sessions['Date'].str.slice(0,4) + '-' + df_sessions['Date'].str.slice(4,6)\n",
    "df_sessions = df_sessions.astype({ 'Organic Sessions': int, 'Non-organic Sessions': int})\n",
    "\n",
    "df_landing_pages = pd.DataFrame({\n",
    "    'Landing Page': [x['dimensions'][0] for x in response['reports'][2]['data']['rows']],\n",
    "    'Page Views': [x['metrics'][0]['values'][0] for x in response['reports'][2]['data']['rows']],\n",
    "    'Avg Session Duration': [x['metrics'][0]['values'][1] for x in response['reports'][2]['data']['rows']],\n",
    "    'Bounce Rate': [x['metrics'][0]['values'][2] for x in response['reports'][2]['data']['rows']],\n",
    "})\n",
    "\n",
    "df_landing_pages = df_landing_pages.astype({ 'Page Views': int, 'Avg Session Duration': float, 'Bounce Rate': float})"
   ]
  },
  {
   "cell_type": "markdown",
   "metadata": {},
   "source": [
    "# Save to cache so we dont need to download all the time"
   ]
  },
  {
   "cell_type": "code",
   "execution_count": 41,
   "metadata": {},
   "outputs": [],
   "source": [
    "with open('cache/sessions.json', 'w') as f:\n",
    "    f.write(df_sessions.to_json(indent=2))\n",
    "    \n",
    "with open('cache/landing_pages.json', 'w') as f:\n",
    "    f.write(df_landing_pages.to_json(indent=2))"
   ]
  },
  {
   "cell_type": "code",
   "execution_count": 42,
   "metadata": {},
   "outputs": [],
   "source": [
    "df_sessions = pd.read_json('cache/sessions.json')\n",
    "df_landing_pages = pd.read_json('cache/landing_pages.json')"
   ]
  },
  {
   "cell_type": "code",
   "execution_count": 39,
   "metadata": {},
   "outputs": [
    {
     "data": {
      "text/html": [
       "<div>\n",
       "<style scoped>\n",
       "    .dataframe tbody tr th:only-of-type {\n",
       "        vertical-align: middle;\n",
       "    }\n",
       "\n",
       "    .dataframe tbody tr th {\n",
       "        vertical-align: top;\n",
       "    }\n",
       "\n",
       "    .dataframe thead th {\n",
       "        text-align: right;\n",
       "    }\n",
       "</style>\n",
       "<table border=\"1\" class=\"dataframe\">\n",
       "  <thead>\n",
       "    <tr style=\"text-align: right;\">\n",
       "      <th></th>\n",
       "      <th>Date</th>\n",
       "      <th>Organic Sessions</th>\n",
       "      <th>Non-organic Sessions</th>\n",
       "    </tr>\n",
       "  </thead>\n",
       "  <tbody>\n",
       "    <tr>\n",
       "      <th>0</th>\n",
       "      <td>2019-01</td>\n",
       "      <td>64</td>\n",
       "      <td>191</td>\n",
       "    </tr>\n",
       "    <tr>\n",
       "      <th>1</th>\n",
       "      <td>2019-02</td>\n",
       "      <td>226</td>\n",
       "      <td>445</td>\n",
       "    </tr>\n",
       "    <tr>\n",
       "      <th>2</th>\n",
       "      <td>2019-03</td>\n",
       "      <td>437</td>\n",
       "      <td>898</td>\n",
       "    </tr>\n",
       "    <tr>\n",
       "      <th>3</th>\n",
       "      <td>2019-04</td>\n",
       "      <td>258</td>\n",
       "      <td>590</td>\n",
       "    </tr>\n",
       "    <tr>\n",
       "      <th>4</th>\n",
       "      <td>2019-05</td>\n",
       "      <td>258</td>\n",
       "      <td>2246</td>\n",
       "    </tr>\n",
       "  </tbody>\n",
       "</table>\n",
       "</div>"
      ],
      "text/plain": [
       "      Date  Organic Sessions  Non-organic Sessions\n",
       "0  2019-01                64                   191\n",
       "1  2019-02               226                   445\n",
       "2  2019-03               437                   898\n",
       "3  2019-04               258                   590\n",
       "4  2019-05               258                  2246"
      ]
     },
     "execution_count": 39,
     "metadata": {},
     "output_type": "execute_result"
    }
   ],
   "source": [
    "df_sessions.head()"
   ]
  },
  {
   "cell_type": "code",
   "execution_count": 40,
   "metadata": {},
   "outputs": [
    {
     "data": {
      "text/html": [
       "<div>\n",
       "<style scoped>\n",
       "    .dataframe tbody tr th:only-of-type {\n",
       "        vertical-align: middle;\n",
       "    }\n",
       "\n",
       "    .dataframe tbody tr th {\n",
       "        vertical-align: top;\n",
       "    }\n",
       "\n",
       "    .dataframe thead th {\n",
       "        text-align: right;\n",
       "    }\n",
       "</style>\n",
       "<table border=\"1\" class=\"dataframe\">\n",
       "  <thead>\n",
       "    <tr style=\"text-align: right;\">\n",
       "      <th></th>\n",
       "      <th>Landing Page</th>\n",
       "      <th>Page Views</th>\n",
       "      <th>Avg Session Duration</th>\n",
       "      <th>Bounce Rate</th>\n",
       "    </tr>\n",
       "  </thead>\n",
       "  <tbody>\n",
       "    <tr>\n",
       "      <th>0</th>\n",
       "      <td>/</td>\n",
       "      <td>32130</td>\n",
       "      <td>297.056252</td>\n",
       "      <td>40.714896</td>\n",
       "    </tr>\n",
       "    <tr>\n",
       "      <th>1</th>\n",
       "      <td>/KyleOS/nbestimate</td>\n",
       "      <td>16341</td>\n",
       "      <td>17.580603</td>\n",
       "      <td>93.522743</td>\n",
       "    </tr>\n",
       "    <tr>\n",
       "      <th>2</th>\n",
       "      <td>/becca/world-happiness</td>\n",
       "      <td>8574</td>\n",
       "      <td>23.884480</td>\n",
       "      <td>91.349528</td>\n",
       "    </tr>\n",
       "    <tr>\n",
       "      <th>3</th>\n",
       "      <td>/KyleOS/atmospheric-co2-concentrations-2</td>\n",
       "      <td>7285</td>\n",
       "      <td>5.826867</td>\n",
       "      <td>89.210079</td>\n",
       "    </tr>\n",
       "    <tr>\n",
       "      <th>4</th>\n",
       "      <td>/KyleOS/cufflinks-intro</td>\n",
       "      <td>4944</td>\n",
       "      <td>74.009578</td>\n",
       "      <td>80.514816</td>\n",
       "    </tr>\n",
       "  </tbody>\n",
       "</table>\n",
       "</div>"
      ],
      "text/plain": [
       "                               Landing Page  Page Views  Avg Session Duration  \\\n",
       "0                                         /       32130            297.056252   \n",
       "1                        /KyleOS/nbestimate       16341             17.580603   \n",
       "2                    /becca/world-happiness        8574             23.884480   \n",
       "3  /KyleOS/atmospheric-co2-concentrations-2        7285              5.826867   \n",
       "4                   /KyleOS/cufflinks-intro        4944             74.009578   \n",
       "\n",
       "   Bounce Rate  \n",
       "0    40.714896  \n",
       "1    93.522743  \n",
       "2    91.349528  \n",
       "3    89.210079  \n",
       "4    80.514816  "
      ]
     },
     "execution_count": 40,
     "metadata": {},
     "output_type": "execute_result"
    }
   ],
   "source": [
    "df_landing_pages.head()"
   ]
  },
  {
   "cell_type": "markdown",
   "metadata": {},
   "source": [
    "# Start plotting"
   ]
  },
  {
   "cell_type": "code",
   "execution_count": 11,
   "metadata": {},
   "outputs": [
    {
     "name": "stderr",
     "output_type": "stream",
     "text": [
      "<ipython-input-11-d9376e1e91b1>:11: FutureWarning:\n",
      "\n",
      "Indexing with multiple keys (implicitly converted to a tuple of keys) will be deprecated, use a list instead.\n",
      "\n"
     ]
    },
    {
     "data": {
      "application/vnd.plotly.v1+json": {
       "config": {
        "plotlyServerURL": "https://plot.ly"
       },
       "data": [
        {
         "fill": "tozeroy",
         "fillcolor": "rgba(255, 153, 51, 0.3)",
         "line": {
          "color": "rgba(255, 153, 51, 1.0)",
          "dash": "solid",
          "shape": "linear",
          "width": 2
         },
         "mode": "lines",
         "name": "Organic Sessions",
         "text": "",
         "type": "scatter",
         "x": [
          "2019-01",
          "2019-02",
          "2019-03",
          "2019-04",
          "2019-05",
          "2019-06",
          "2019-07",
          "2019-08",
          "2019-09",
          "2019-10",
          "2019-11",
          "2019-12",
          "2019-13",
          "2019-14",
          "2019-15",
          "2019-16",
          "2019-17",
          "2019-18",
          "2019-19",
          "2019-20",
          "2019-21",
          "2019-22"
         ],
         "y": [
          64,
          226,
          437,
          258,
          258,
          154,
          321,
          238,
          240,
          187,
          372,
          901,
          363,
          435,
          2741,
          318,
          1510,
          457,
          3760,
          1020,
          7634,
          605
         ]
        },
        {
         "fill": "tozeroy",
         "fillcolor": "rgba(55, 128, 191, 0.3)",
         "line": {
          "color": "rgba(55, 128, 191, 1.0)",
          "dash": "solid",
          "shape": "linear",
          "width": 2
         },
         "mode": "lines",
         "name": "Non-organic Sessions",
         "text": "",
         "type": "scatter",
         "x": [
          "2019-01",
          "2019-02",
          "2019-03",
          "2019-04",
          "2019-05",
          "2019-06",
          "2019-07",
          "2019-08",
          "2019-09",
          "2019-10",
          "2019-11",
          "2019-12",
          "2019-13",
          "2019-14",
          "2019-15",
          "2019-16",
          "2019-17",
          "2019-18",
          "2019-19",
          "2019-20",
          "2019-21",
          "2019-22"
         ],
         "y": [
          191,
          445,
          898,
          590,
          2246,
          559,
          754,
          2956,
          3381,
          910,
          991,
          2557,
          987,
          1165,
          8590,
          988,
          3457,
          886,
          15891,
          1804,
          9822,
          1096
         ]
        }
       ],
       "layout": {
        "annotations": [
         {
          "arrowhead": 7,
          "ax": 0,
          "ay": -200,
          "font": {
           "color": "rgb(107, 107, 107)",
           "size": 12
          },
          "showarrow": true,
          "text": "Beginning of <br> Content Marketing",
          "x": "2019-04",
          "y": "225"
         }
        ],
        "height": 600,
        "template": {
         "data": {
          "bar": [
           {
            "error_x": {
             "color": "#2a3f5f"
            },
            "error_y": {
             "color": "#2a3f5f"
            },
            "marker": {
             "line": {
              "color": "#E5ECF6",
              "width": 0.5
             }
            },
            "type": "bar"
           }
          ],
          "barpolar": [
           {
            "marker": {
             "line": {
              "color": "#E5ECF6",
              "width": 0.5
             }
            },
            "type": "barpolar"
           }
          ],
          "carpet": [
           {
            "aaxis": {
             "endlinecolor": "#2a3f5f",
             "gridcolor": "white",
             "linecolor": "white",
             "minorgridcolor": "white",
             "startlinecolor": "#2a3f5f"
            },
            "baxis": {
             "endlinecolor": "#2a3f5f",
             "gridcolor": "white",
             "linecolor": "white",
             "minorgridcolor": "white",
             "startlinecolor": "#2a3f5f"
            },
            "type": "carpet"
           }
          ],
          "choropleth": [
           {
            "colorbar": {
             "outlinewidth": 0,
             "ticks": ""
            },
            "type": "choropleth"
           }
          ],
          "contour": [
           {
            "colorbar": {
             "outlinewidth": 0,
             "ticks": ""
            },
            "colorscale": [
             [
              0,
              "#0d0887"
             ],
             [
              0.1111111111111111,
              "#46039f"
             ],
             [
              0.2222222222222222,
              "#7201a8"
             ],
             [
              0.3333333333333333,
              "#9c179e"
             ],
             [
              0.4444444444444444,
              "#bd3786"
             ],
             [
              0.5555555555555556,
              "#d8576b"
             ],
             [
              0.6666666666666666,
              "#ed7953"
             ],
             [
              0.7777777777777778,
              "#fb9f3a"
             ],
             [
              0.8888888888888888,
              "#fdca26"
             ],
             [
              1,
              "#f0f921"
             ]
            ],
            "type": "contour"
           }
          ],
          "contourcarpet": [
           {
            "colorbar": {
             "outlinewidth": 0,
             "ticks": ""
            },
            "type": "contourcarpet"
           }
          ],
          "heatmap": [
           {
            "colorbar": {
             "outlinewidth": 0,
             "ticks": ""
            },
            "colorscale": [
             [
              0,
              "#0d0887"
             ],
             [
              0.1111111111111111,
              "#46039f"
             ],
             [
              0.2222222222222222,
              "#7201a8"
             ],
             [
              0.3333333333333333,
              "#9c179e"
             ],
             [
              0.4444444444444444,
              "#bd3786"
             ],
             [
              0.5555555555555556,
              "#d8576b"
             ],
             [
              0.6666666666666666,
              "#ed7953"
             ],
             [
              0.7777777777777778,
              "#fb9f3a"
             ],
             [
              0.8888888888888888,
              "#fdca26"
             ],
             [
              1,
              "#f0f921"
             ]
            ],
            "type": "heatmap"
           }
          ],
          "heatmapgl": [
           {
            "colorbar": {
             "outlinewidth": 0,
             "ticks": ""
            },
            "colorscale": [
             [
              0,
              "#0d0887"
             ],
             [
              0.1111111111111111,
              "#46039f"
             ],
             [
              0.2222222222222222,
              "#7201a8"
             ],
             [
              0.3333333333333333,
              "#9c179e"
             ],
             [
              0.4444444444444444,
              "#bd3786"
             ],
             [
              0.5555555555555556,
              "#d8576b"
             ],
             [
              0.6666666666666666,
              "#ed7953"
             ],
             [
              0.7777777777777778,
              "#fb9f3a"
             ],
             [
              0.8888888888888888,
              "#fdca26"
             ],
             [
              1,
              "#f0f921"
             ]
            ],
            "type": "heatmapgl"
           }
          ],
          "histogram": [
           {
            "marker": {
             "colorbar": {
              "outlinewidth": 0,
              "ticks": ""
             }
            },
            "type": "histogram"
           }
          ],
          "histogram2d": [
           {
            "colorbar": {
             "outlinewidth": 0,
             "ticks": ""
            },
            "colorscale": [
             [
              0,
              "#0d0887"
             ],
             [
              0.1111111111111111,
              "#46039f"
             ],
             [
              0.2222222222222222,
              "#7201a8"
             ],
             [
              0.3333333333333333,
              "#9c179e"
             ],
             [
              0.4444444444444444,
              "#bd3786"
             ],
             [
              0.5555555555555556,
              "#d8576b"
             ],
             [
              0.6666666666666666,
              "#ed7953"
             ],
             [
              0.7777777777777778,
              "#fb9f3a"
             ],
             [
              0.8888888888888888,
              "#fdca26"
             ],
             [
              1,
              "#f0f921"
             ]
            ],
            "type": "histogram2d"
           }
          ],
          "histogram2dcontour": [
           {
            "colorbar": {
             "outlinewidth": 0,
             "ticks": ""
            },
            "colorscale": [
             [
              0,
              "#0d0887"
             ],
             [
              0.1111111111111111,
              "#46039f"
             ],
             [
              0.2222222222222222,
              "#7201a8"
             ],
             [
              0.3333333333333333,
              "#9c179e"
             ],
             [
              0.4444444444444444,
              "#bd3786"
             ],
             [
              0.5555555555555556,
              "#d8576b"
             ],
             [
              0.6666666666666666,
              "#ed7953"
             ],
             [
              0.7777777777777778,
              "#fb9f3a"
             ],
             [
              0.8888888888888888,
              "#fdca26"
             ],
             [
              1,
              "#f0f921"
             ]
            ],
            "type": "histogram2dcontour"
           }
          ],
          "mesh3d": [
           {
            "colorbar": {
             "outlinewidth": 0,
             "ticks": ""
            },
            "type": "mesh3d"
           }
          ],
          "parcoords": [
           {
            "line": {
             "colorbar": {
              "outlinewidth": 0,
              "ticks": ""
             }
            },
            "type": "parcoords"
           }
          ],
          "pie": [
           {
            "automargin": true,
            "type": "pie"
           }
          ],
          "scatter": [
           {
            "marker": {
             "colorbar": {
              "outlinewidth": 0,
              "ticks": ""
             }
            },
            "type": "scatter"
           }
          ],
          "scatter3d": [
           {
            "line": {
             "colorbar": {
              "outlinewidth": 0,
              "ticks": ""
             }
            },
            "marker": {
             "colorbar": {
              "outlinewidth": 0,
              "ticks": ""
             }
            },
            "type": "scatter3d"
           }
          ],
          "scattercarpet": [
           {
            "marker": {
             "colorbar": {
              "outlinewidth": 0,
              "ticks": ""
             }
            },
            "type": "scattercarpet"
           }
          ],
          "scattergeo": [
           {
            "marker": {
             "colorbar": {
              "outlinewidth": 0,
              "ticks": ""
             }
            },
            "type": "scattergeo"
           }
          ],
          "scattergl": [
           {
            "marker": {
             "colorbar": {
              "outlinewidth": 0,
              "ticks": ""
             }
            },
            "type": "scattergl"
           }
          ],
          "scattermapbox": [
           {
            "marker": {
             "colorbar": {
              "outlinewidth": 0,
              "ticks": ""
             }
            },
            "type": "scattermapbox"
           }
          ],
          "scatterpolar": [
           {
            "marker": {
             "colorbar": {
              "outlinewidth": 0,
              "ticks": ""
             }
            },
            "type": "scatterpolar"
           }
          ],
          "scatterpolargl": [
           {
            "marker": {
             "colorbar": {
              "outlinewidth": 0,
              "ticks": ""
             }
            },
            "type": "scatterpolargl"
           }
          ],
          "scatterternary": [
           {
            "marker": {
             "colorbar": {
              "outlinewidth": 0,
              "ticks": ""
             }
            },
            "type": "scatterternary"
           }
          ],
          "surface": [
           {
            "colorbar": {
             "outlinewidth": 0,
             "ticks": ""
            },
            "colorscale": [
             [
              0,
              "#0d0887"
             ],
             [
              0.1111111111111111,
              "#46039f"
             ],
             [
              0.2222222222222222,
              "#7201a8"
             ],
             [
              0.3333333333333333,
              "#9c179e"
             ],
             [
              0.4444444444444444,
              "#bd3786"
             ],
             [
              0.5555555555555556,
              "#d8576b"
             ],
             [
              0.6666666666666666,
              "#ed7953"
             ],
             [
              0.7777777777777778,
              "#fb9f3a"
             ],
             [
              0.8888888888888888,
              "#fdca26"
             ],
             [
              1,
              "#f0f921"
             ]
            ],
            "type": "surface"
           }
          ],
          "table": [
           {
            "cells": {
             "fill": {
              "color": "#EBF0F8"
             },
             "line": {
              "color": "white"
             }
            },
            "header": {
             "fill": {
              "color": "#C8D4E3"
             },
             "line": {
              "color": "white"
             }
            },
            "type": "table"
           }
          ]
         },
         "layout": {
          "annotationdefaults": {
           "arrowcolor": "#2a3f5f",
           "arrowhead": 0,
           "arrowwidth": 1
          },
          "coloraxis": {
           "colorbar": {
            "outlinewidth": 0,
            "ticks": ""
           }
          },
          "colorscale": {
           "diverging": [
            [
             0,
             "#8e0152"
            ],
            [
             0.1,
             "#c51b7d"
            ],
            [
             0.2,
             "#de77ae"
            ],
            [
             0.3,
             "#f1b6da"
            ],
            [
             0.4,
             "#fde0ef"
            ],
            [
             0.5,
             "#f7f7f7"
            ],
            [
             0.6,
             "#e6f5d0"
            ],
            [
             0.7,
             "#b8e186"
            ],
            [
             0.8,
             "#7fbc41"
            ],
            [
             0.9,
             "#4d9221"
            ],
            [
             1,
             "#276419"
            ]
           ],
           "sequential": [
            [
             0,
             "#0d0887"
            ],
            [
             0.1111111111111111,
             "#46039f"
            ],
            [
             0.2222222222222222,
             "#7201a8"
            ],
            [
             0.3333333333333333,
             "#9c179e"
            ],
            [
             0.4444444444444444,
             "#bd3786"
            ],
            [
             0.5555555555555556,
             "#d8576b"
            ],
            [
             0.6666666666666666,
             "#ed7953"
            ],
            [
             0.7777777777777778,
             "#fb9f3a"
            ],
            [
             0.8888888888888888,
             "#fdca26"
            ],
            [
             1,
             "#f0f921"
            ]
           ],
           "sequentialminus": [
            [
             0,
             "#0d0887"
            ],
            [
             0.1111111111111111,
             "#46039f"
            ],
            [
             0.2222222222222222,
             "#7201a8"
            ],
            [
             0.3333333333333333,
             "#9c179e"
            ],
            [
             0.4444444444444444,
             "#bd3786"
            ],
            [
             0.5555555555555556,
             "#d8576b"
            ],
            [
             0.6666666666666666,
             "#ed7953"
            ],
            [
             0.7777777777777778,
             "#fb9f3a"
            ],
            [
             0.8888888888888888,
             "#fdca26"
            ],
            [
             1,
             "#f0f921"
            ]
           ]
          },
          "colorway": [
           "#636efa",
           "#EF553B",
           "#00cc96",
           "#ab63fa",
           "#FFA15A",
           "#19d3f3",
           "#FF6692",
           "#B6E880",
           "#FF97FF",
           "#FECB52"
          ],
          "font": {
           "color": "#2a3f5f"
          },
          "geo": {
           "bgcolor": "white",
           "lakecolor": "white",
           "landcolor": "#E5ECF6",
           "showlakes": true,
           "showland": true,
           "subunitcolor": "white"
          },
          "hoverlabel": {
           "align": "left"
          },
          "hovermode": "closest",
          "mapbox": {
           "style": "light"
          },
          "paper_bgcolor": "white",
          "plot_bgcolor": "#E5ECF6",
          "polar": {
           "angularaxis": {
            "gridcolor": "white",
            "linecolor": "white",
            "ticks": ""
           },
           "bgcolor": "#E5ECF6",
           "radialaxis": {
            "gridcolor": "white",
            "linecolor": "white",
            "ticks": ""
           }
          },
          "scene": {
           "xaxis": {
            "backgroundcolor": "#E5ECF6",
            "gridcolor": "white",
            "gridwidth": 2,
            "linecolor": "white",
            "showbackground": true,
            "ticks": "",
            "zerolinecolor": "white"
           },
           "yaxis": {
            "backgroundcolor": "#E5ECF6",
            "gridcolor": "white",
            "gridwidth": 2,
            "linecolor": "white",
            "showbackground": true,
            "ticks": "",
            "zerolinecolor": "white"
           },
           "zaxis": {
            "backgroundcolor": "#E5ECF6",
            "gridcolor": "white",
            "gridwidth": 2,
            "linecolor": "white",
            "showbackground": true,
            "ticks": "",
            "zerolinecolor": "white"
           }
          },
          "shapedefaults": {
           "line": {
            "color": "#2a3f5f"
           }
          },
          "ternary": {
           "aaxis": {
            "gridcolor": "white",
            "linecolor": "white",
            "ticks": ""
           },
           "baxis": {
            "gridcolor": "white",
            "linecolor": "white",
            "ticks": ""
           },
           "bgcolor": "#E5ECF6",
           "caxis": {
            "gridcolor": "white",
            "linecolor": "white",
            "ticks": ""
           }
          },
          "title": {
           "x": 0.05
          },
          "xaxis": {
           "automargin": true,
           "gridcolor": "white",
           "linecolor": "white",
           "ticks": "",
           "title": {
            "standoff": 15
           },
           "zerolinecolor": "white",
           "zerolinewidth": 2
          },
          "yaxis": {
           "automargin": true,
           "gridcolor": "white",
           "linecolor": "white",
           "ticks": "",
           "title": {
            "standoff": 15
           },
           "zerolinecolor": "white",
           "zerolinewidth": 2
          }
         }
        },
        "title": {
         "text": "Website Traffic Over Time"
        },
        "width": 800,
        "xaxis": {
         "autorange": true,
         "range": [
          "2019-01-01",
          "2019-12-01"
         ],
         "title": {
          "text": "Date"
         },
         "type": "date"
        },
        "yaxis": {
         "autorange": true,
         "range": [
          0,
          16727.36842105263
         ],
         "title": {
          "text": "Sessions"
         },
         "type": "linear"
        }
       }
      },
      "image/png": "[encoded data removed]",
      "text/html": [
       "<div>\n",
       "        \n",
       "        \n",
       "            <div id=\"9223c314-3a80-4263-b3a8-857225c0eddf\" class=\"plotly-graph-div\" style=\"height:600px; width:800px;\"></div>\n",
       "            <script type=\"text/javascript\">\n",
       "                require([\"plotly\"], function(Plotly) {\n",
       "                    window.PLOTLYENV=window.PLOTLYENV || {};\n",
       "                    \n",
       "                if (document.getElementById(\"9223c314-3a80-4263-b3a8-857225c0eddf\")) {\n",
       "                    Plotly.newPlot(\n",
       "                        '9223c314-3a80-4263-b3a8-857225c0eddf',\n",
       "                        [{\"fill\": \"tozeroy\", \"fillcolor\": \"rgba(255, 153, 51, 0.3)\", \"line\": {\"color\": \"rgba(255, 153, 51, 1.0)\", \"dash\": \"solid\", \"shape\": \"linear\", \"width\": 2}, \"mode\": \"lines\", \"name\": \"Organic Sessions\", \"text\": \"\", \"type\": \"scatter\", \"x\": [\"2019-01\", \"2019-02\", \"2019-03\", \"2019-04\", \"2019-05\", \"2019-06\", \"2019-07\", \"2019-08\", \"2019-09\", \"2019-10\", \"2019-11\", \"2019-12\", \"2019-13\", \"2019-14\", \"2019-15\", \"2019-16\", \"2019-17\", \"2019-18\", \"2019-19\", \"2019-20\", \"2019-21\", \"2019-22\"], \"y\": [64, 226, 437, 258, 258, 154, 321, 238, 240, 187, 372, 901, 363, 435, 2741, 318, 1510, 457, 3760, 1020, 7634, 605]}, {\"fill\": \"tozeroy\", \"fillcolor\": \"rgba(55, 128, 191, 0.3)\", \"line\": {\"color\": \"rgba(55, 128, 191, 1.0)\", \"dash\": \"solid\", \"shape\": \"linear\", \"width\": 2}, \"mode\": \"lines\", \"name\": \"Non-organic Sessions\", \"text\": \"\", \"type\": \"scatter\", \"x\": [\"2019-01\", \"2019-02\", \"2019-03\", \"2019-04\", \"2019-05\", \"2019-06\", \"2019-07\", \"2019-08\", \"2019-09\", \"2019-10\", \"2019-11\", \"2019-12\", \"2019-13\", \"2019-14\", \"2019-15\", \"2019-16\", \"2019-17\", \"2019-18\", \"2019-19\", \"2019-20\", \"2019-21\", \"2019-22\"], \"y\": [191, 445, 898, 590, 2246, 559, 754, 2956, 3381, 910, 991, 2557, 987, 1165, 8590, 988, 3457, 886, 15891, 1804, 9822, 1096]}],\n",
       "                        {\"annotations\": [{\"arrowhead\": 7, \"ax\": 0, \"ay\": -200, \"font\": {\"color\": \"rgb(107, 107, 107)\", \"size\": 12}, \"showarrow\": true, \"text\": \"Beginning of <br> Content Marketing\", \"x\": \"2019-04\", \"y\": \"225\"}], \"height\": 600, \"template\": {\"data\": {\"bar\": [{\"error_x\": {\"color\": \"#2a3f5f\"}, \"error_y\": {\"color\": \"#2a3f5f\"}, \"marker\": {\"line\": {\"color\": \"#E5ECF6\", \"width\": 0.5}}, \"type\": \"bar\"}], \"barpolar\": [{\"marker\": {\"line\": {\"color\": \"#E5ECF6\", \"width\": 0.5}}, \"type\": \"barpolar\"}], \"carpet\": [{\"aaxis\": {\"endlinecolor\": \"#2a3f5f\", \"gridcolor\": \"white\", \"linecolor\": \"white\", \"minorgridcolor\": \"white\", \"startlinecolor\": \"#2a3f5f\"}, \"baxis\": {\"endlinecolor\": \"#2a3f5f\", \"gridcolor\": \"white\", \"linecolor\": \"white\", \"minorgridcolor\": \"white\", \"startlinecolor\": \"#2a3f5f\"}, \"type\": \"carpet\"}], \"choropleth\": [{\"colorbar\": {\"outlinewidth\": 0, \"ticks\": \"\"}, \"type\": \"choropleth\"}], \"contour\": [{\"colorbar\": {\"outlinewidth\": 0, \"ticks\": \"\"}, \"colorscale\": [[0.0, \"#0d0887\"], [0.1111111111111111, \"#46039f\"], [0.2222222222222222, \"#7201a8\"], [0.3333333333333333, \"#9c179e\"], [0.4444444444444444, \"#bd3786\"], [0.5555555555555556, \"#d8576b\"], [0.6666666666666666, \"#ed7953\"], [0.7777777777777778, \"#fb9f3a\"], [0.8888888888888888, \"#fdca26\"], [1.0, \"#f0f921\"]], \"type\": \"contour\"}], \"contourcarpet\": [{\"colorbar\": {\"outlinewidth\": 0, \"ticks\": \"\"}, \"type\": \"contourcarpet\"}], \"heatmap\": [{\"colorbar\": {\"outlinewidth\": 0, \"ticks\": \"\"}, \"colorscale\": [[0.0, \"#0d0887\"], [0.1111111111111111, \"#46039f\"], [0.2222222222222222, \"#7201a8\"], [0.3333333333333333, \"#9c179e\"], [0.4444444444444444, \"#bd3786\"], [0.5555555555555556, \"#d8576b\"], [0.6666666666666666, \"#ed7953\"], [0.7777777777777778, \"#fb9f3a\"], [0.8888888888888888, \"#fdca26\"], [1.0, \"#f0f921\"]], \"type\": \"heatmap\"}], \"heatmapgl\": [{\"colorbar\": {\"outlinewidth\": 0, \"ticks\": \"\"}, \"colorscale\": [[0.0, \"#0d0887\"], [0.1111111111111111, \"#46039f\"], [0.2222222222222222, \"#7201a8\"], [0.3333333333333333, \"#9c179e\"], [0.4444444444444444, \"#bd3786\"], [0.5555555555555556, \"#d8576b\"], [0.6666666666666666, \"#ed7953\"], [0.7777777777777778, \"#fb9f3a\"], [0.8888888888888888, \"#fdca26\"], [1.0, \"#f0f921\"]], \"type\": \"heatmapgl\"}], \"histogram\": [{\"marker\": {\"colorbar\": {\"outlinewidth\": 0, \"ticks\": \"\"}}, \"type\": \"histogram\"}], \"histogram2d\": [{\"colorbar\": {\"outlinewidth\": 0, \"ticks\": \"\"}, \"colorscale\": [[0.0, \"#0d0887\"], [0.1111111111111111, \"#46039f\"], [0.2222222222222222, \"#7201a8\"], [0.3333333333333333, \"#9c179e\"], [0.4444444444444444, \"#bd3786\"], [0.5555555555555556, \"#d8576b\"], [0.6666666666666666, \"#ed7953\"], [0.7777777777777778, \"#fb9f3a\"], [0.8888888888888888, \"#fdca26\"], [1.0, \"#f0f921\"]], \"type\": \"histogram2d\"}], \"histogram2dcontour\": [{\"colorbar\": {\"outlinewidth\": 0, \"ticks\": \"\"}, \"colorscale\": [[0.0, \"#0d0887\"], [0.1111111111111111, \"#46039f\"], [0.2222222222222222, \"#7201a8\"], [0.3333333333333333, \"#9c179e\"], [0.4444444444444444, \"#bd3786\"], [0.5555555555555556, \"#d8576b\"], [0.6666666666666666, \"#ed7953\"], [0.7777777777777778, \"#fb9f3a\"], [0.8888888888888888, \"#fdca26\"], [1.0, \"#f0f921\"]], \"type\": \"histogram2dcontour\"}], \"mesh3d\": [{\"colorbar\": {\"outlinewidth\": 0, \"ticks\": \"\"}, \"type\": \"mesh3d\"}], \"parcoords\": [{\"line\": {\"colorbar\": {\"outlinewidth\": 0, \"ticks\": \"\"}}, \"type\": \"parcoords\"}], \"pie\": [{\"automargin\": true, \"type\": \"pie\"}], \"scatter\": [{\"marker\": {\"colorbar\": {\"outlinewidth\": 0, \"ticks\": \"\"}}, \"type\": \"scatter\"}], \"scatter3d\": [{\"line\": {\"colorbar\": {\"outlinewidth\": 0, \"ticks\": \"\"}}, \"marker\": {\"colorbar\": {\"outlinewidth\": 0, \"ticks\": \"\"}}, \"type\": \"scatter3d\"}], \"scattercarpet\": [{\"marker\": {\"colorbar\": {\"outlinewidth\": 0, \"ticks\": \"\"}}, \"type\": \"scattercarpet\"}], \"scattergeo\": [{\"marker\": {\"colorbar\": {\"outlinewidth\": 0, \"ticks\": \"\"}}, \"type\": \"scattergeo\"}], \"scattergl\": [{\"marker\": {\"colorbar\": {\"outlinewidth\": 0, \"ticks\": \"\"}}, \"type\": \"scattergl\"}], \"scattermapbox\": [{\"marker\": {\"colorbar\": {\"outlinewidth\": 0, \"ticks\": \"\"}}, \"type\": \"scattermapbox\"}], \"scatterpolar\": [{\"marker\": {\"colorbar\": {\"outlinewidth\": 0, \"ticks\": \"\"}}, \"type\": \"scatterpolar\"}], \"scatterpolargl\": [{\"marker\": {\"colorbar\": {\"outlinewidth\": 0, \"ticks\": \"\"}}, \"type\": \"scatterpolargl\"}], \"scatterternary\": [{\"marker\": {\"colorbar\": {\"outlinewidth\": 0, \"ticks\": \"\"}}, \"type\": \"scatterternary\"}], \"surface\": [{\"colorbar\": {\"outlinewidth\": 0, \"ticks\": \"\"}, \"colorscale\": [[0.0, \"#0d0887\"], [0.1111111111111111, \"#46039f\"], [0.2222222222222222, \"#7201a8\"], [0.3333333333333333, \"#9c179e\"], [0.4444444444444444, \"#bd3786\"], [0.5555555555555556, \"#d8576b\"], [0.6666666666666666, \"#ed7953\"], [0.7777777777777778, \"#fb9f3a\"], [0.8888888888888888, \"#fdca26\"], [1.0, \"#f0f921\"]], \"type\": \"surface\"}], \"table\": [{\"cells\": {\"fill\": {\"color\": \"#EBF0F8\"}, \"line\": {\"color\": \"white\"}}, \"header\": {\"fill\": {\"color\": \"#C8D4E3\"}, \"line\": {\"color\": \"white\"}}, \"type\": \"table\"}]}, \"layout\": {\"annotationdefaults\": {\"arrowcolor\": \"#2a3f5f\", \"arrowhead\": 0, \"arrowwidth\": 1}, \"coloraxis\": {\"colorbar\": {\"outlinewidth\": 0, \"ticks\": \"\"}}, \"colorscale\": {\"diverging\": [[0, \"#8e0152\"], [0.1, \"#c51b7d\"], [0.2, \"#de77ae\"], [0.3, \"#f1b6da\"], [0.4, \"#fde0ef\"], [0.5, \"#f7f7f7\"], [0.6, \"#e6f5d0\"], [0.7, \"#b8e186\"], [0.8, \"#7fbc41\"], [0.9, \"#4d9221\"], [1, \"#276419\"]], \"sequential\": [[0.0, \"#0d0887\"], [0.1111111111111111, \"#46039f\"], [0.2222222222222222, \"#7201a8\"], [0.3333333333333333, \"#9c179e\"], [0.4444444444444444, \"#bd3786\"], [0.5555555555555556, \"#d8576b\"], [0.6666666666666666, \"#ed7953\"], [0.7777777777777778, \"#fb9f3a\"], [0.8888888888888888, \"#fdca26\"], [1.0, \"#f0f921\"]], \"sequentialminus\": [[0.0, \"#0d0887\"], [0.1111111111111111, \"#46039f\"], [0.2222222222222222, \"#7201a8\"], [0.3333333333333333, \"#9c179e\"], [0.4444444444444444, \"#bd3786\"], [0.5555555555555556, \"#d8576b\"], [0.6666666666666666, \"#ed7953\"], [0.7777777777777778, \"#fb9f3a\"], [0.8888888888888888, \"#fdca26\"], [1.0, \"#f0f921\"]]}, \"colorway\": [\"#636efa\", \"#EF553B\", \"#00cc96\", \"#ab63fa\", \"#FFA15A\", \"#19d3f3\", \"#FF6692\", \"#B6E880\", \"#FF97FF\", \"#FECB52\"], \"font\": {\"color\": \"#2a3f5f\"}, \"geo\": {\"bgcolor\": \"white\", \"lakecolor\": \"white\", \"landcolor\": \"#E5ECF6\", \"showlakes\": true, \"showland\": true, \"subunitcolor\": \"white\"}, \"hoverlabel\": {\"align\": \"left\"}, \"hovermode\": \"closest\", \"mapbox\": {\"style\": \"light\"}, \"paper_bgcolor\": \"white\", \"plot_bgcolor\": \"#E5ECF6\", \"polar\": {\"angularaxis\": {\"gridcolor\": \"white\", \"linecolor\": \"white\", \"ticks\": \"\"}, \"bgcolor\": \"#E5ECF6\", \"radialaxis\": {\"gridcolor\": \"white\", \"linecolor\": \"white\", \"ticks\": \"\"}}, \"scene\": {\"xaxis\": {\"backgroundcolor\": \"#E5ECF6\", \"gridcolor\": \"white\", \"gridwidth\": 2, \"linecolor\": \"white\", \"showbackground\": true, \"ticks\": \"\", \"zerolinecolor\": \"white\"}, \"yaxis\": {\"backgroundcolor\": \"#E5ECF6\", \"gridcolor\": \"white\", \"gridwidth\": 2, \"linecolor\": \"white\", \"showbackground\": true, \"ticks\": \"\", \"zerolinecolor\": \"white\"}, \"zaxis\": {\"backgroundcolor\": \"#E5ECF6\", \"gridcolor\": \"white\", \"gridwidth\": 2, \"linecolor\": \"white\", \"showbackground\": true, \"ticks\": \"\", \"zerolinecolor\": \"white\"}}, \"shapedefaults\": {\"line\": {\"color\": \"#2a3f5f\"}}, \"ternary\": {\"aaxis\": {\"gridcolor\": \"white\", \"linecolor\": \"white\", \"ticks\": \"\"}, \"baxis\": {\"gridcolor\": \"white\", \"linecolor\": \"white\", \"ticks\": \"\"}, \"bgcolor\": \"#E5ECF6\", \"caxis\": {\"gridcolor\": \"white\", \"linecolor\": \"white\", \"ticks\": \"\"}}, \"title\": {\"x\": 0.05}, \"xaxis\": {\"automargin\": true, \"gridcolor\": \"white\", \"linecolor\": \"white\", \"ticks\": \"\", \"title\": {\"standoff\": 15}, \"zerolinecolor\": \"white\", \"zerolinewidth\": 2}, \"yaxis\": {\"automargin\": true, \"gridcolor\": \"white\", \"linecolor\": \"white\", \"ticks\": \"\", \"title\": {\"standoff\": 15}, \"zerolinecolor\": \"white\", \"zerolinewidth\": 2}}}, \"title\": {\"text\": \"Website Traffic Over Time\"}, \"width\": 800, \"xaxis\": {\"title\": {\"text\": \"Date\"}}, \"yaxis\": {\"title\": {\"text\": \"Sessions\"}}},\n",
       "                        {\"responsive\": true}\n",
       "                    ).then(function(){\n",
       "                            \n",
       "var gd = document.getElementById('9223c314-3a80-4263-b3a8-857225c0eddf');\n",
       "var x = new MutationObserver(function (mutations, observer) {{\n",
       "        var display = window.getComputedStyle(gd).display;\n",
       "        if (!display || display === 'none') {{\n",
       "            console.log([gd, 'removed!']);\n",
       "            Plotly.purge(gd);\n",
       "            observer.disconnect();\n",
       "        }}\n",
       "}});\n",
       "\n",
       "// Listen for the removal of the full notebook cells\n",
       "var notebookContainer = gd.closest('#notebook-container');\n",
       "if (notebookContainer) {{\n",
       "    x.observe(notebookContainer, {childList: true});\n",
       "}}\n",
       "\n",
       "// Listen for the clearing of the current output cell\n",
       "var outputEl = gd.closest('.output');\n",
       "if (outputEl) {{\n",
       "    x.observe(outputEl, {childList: true});\n",
       "}}\n",
       "\n",
       "                        })\n",
       "                };\n",
       "                });\n",
       "            </script>\n",
       "        </div>"
      ]
     },
     "metadata": {},
     "output_type": "display_data"
    }
   ],
   "source": [
    "layout = cf.Layout(\n",
    "    height = 600,\n",
    "    width = 800,\n",
    "    yaxis = dict(\n",
    "    title = 'Sessions'),\n",
    "    xaxis = dict(\n",
    "    title = 'Date'),\n",
    "    title = 'Website Traffic Over Time'\n",
    ")\n",
    "\n",
    "fig = df_sessions.groupby(['Date'],as_index=True)['Organic Sessions','Non-organic Sessions'].mean().\\\n",
    "    iplot(kind='scatter',\n",
    "          fill=True,\n",
    "          width=2,\n",
    "          asFigure=True,\n",
    "          layout = layout)\n",
    "\n",
    "fig.layout.annotations = [\n",
    "        dict(\n",
    "            x='2019-04',\n",
    "            y='225',\n",
    "            text='Beginning of <br> Content Marketing',\n",
    "            showarrow=True,\n",
    "            arrowhead=7,\n",
    "            ax=0,\n",
    "            ay=-200,\n",
    "            font=dict(\n",
    "            size=12,\n",
    "            color='rgb(107, 107, 107)'\n",
    "            )\n",
    "        )\n",
    "]\n",
    "\n",
    "fig.show()"
   ]
  },
  {
   "cell_type": "markdown",
   "metadata": {},
   "source": [
    "### Where Does This Search Result Traffic Land?\n",
    "\n",
    "- As mentioned above, this startup creates lots of different types of content to drive traffic to the website.\n",
    "- We want to know not only what pieces of content are getting the most results but also the type of content that is most successful.\n",
    "- Let's pull in the data we need to answer this question. We will look at the top 10 landing pages by pageviews, along with their bounce rates and average session durations."
   ]
  },
  {
   "cell_type": "code",
   "execution_count": 16,
   "metadata": {},
   "outputs": [
    {
     "data": {
      "application/vnd.plotly.v1+json": {
       "config": {
        "plotlyServerURL": "https://plot.ly"
       },
       "data": [
        {
         "marker": {
          "color": "rgba(255, 153, 51, 0.6)",
          "line": {
           "color": "rgba(255, 153, 51, 1.0)",
           "width": 1
          }
         },
         "name": "Page Views",
         "orientation": "h",
         "text": "",
         "type": "bar",
         "x": [
          1144,
          1193,
          2075,
          2611,
          3007,
          4477,
          4944,
          7285,
          8574,
          16341
         ],
         "y": [
          "/explore",
          "/KyleOS/running-kysos-docker-image",
          "/KyleOS/per-cap-co2",
          "/dashboard",
          "/KyleOS/bokeh-sliders",
          "/KyleOS/plotly-chart-editor",
          "/KyleOS/cufflinks-intro",
          "/KyleOS/atmospheric-co2-concentrations-2",
          "/becca/world-happiness",
          "/KyleOS/nbestimate"
         ]
        }
       ],
       "layout": {
        "height": 600,
        "margin": {
         "l": 200
        },
        "template": {
         "data": {
          "bar": [
           {
            "error_x": {
             "color": "#2a3f5f"
            },
            "error_y": {
             "color": "#2a3f5f"
            },
            "marker": {
             "line": {
              "color": "#E5ECF6",
              "width": 0.5
             }
            },
            "type": "bar"
           }
          ],
          "barpolar": [
           {
            "marker": {
             "line": {
              "color": "#E5ECF6",
              "width": 0.5
             }
            },
            "type": "barpolar"
           }
          ],
          "carpet": [
           {
            "aaxis": {
             "endlinecolor": "#2a3f5f",
             "gridcolor": "white",
             "linecolor": "white",
             "minorgridcolor": "white",
             "startlinecolor": "#2a3f5f"
            },
            "baxis": {
             "endlinecolor": "#2a3f5f",
             "gridcolor": "white",
             "linecolor": "white",
             "minorgridcolor": "white",
             "startlinecolor": "#2a3f5f"
            },
            "type": "carpet"
           }
          ],
          "choropleth": [
           {
            "colorbar": {
             "outlinewidth": 0,
             "ticks": ""
            },
            "type": "choropleth"
           }
          ],
          "contour": [
           {
            "colorbar": {
             "outlinewidth": 0,
             "ticks": ""
            },
            "colorscale": [
             [
              0,
              "#0d0887"
             ],
             [
              0.1111111111111111,
              "#46039f"
             ],
             [
              0.2222222222222222,
              "#7201a8"
             ],
             [
              0.3333333333333333,
              "#9c179e"
             ],
             [
              0.4444444444444444,
              "#bd3786"
             ],
             [
              0.5555555555555556,
              "#d8576b"
             ],
             [
              0.6666666666666666,
              "#ed7953"
             ],
             [
              0.7777777777777778,
              "#fb9f3a"
             ],
             [
              0.8888888888888888,
              "#fdca26"
             ],
             [
              1,
              "#f0f921"
             ]
            ],
            "type": "contour"
           }
          ],
          "contourcarpet": [
           {
            "colorbar": {
             "outlinewidth": 0,
             "ticks": ""
            },
            "type": "contourcarpet"
           }
          ],
          "heatmap": [
           {
            "colorbar": {
             "outlinewidth": 0,
             "ticks": ""
            },
            "colorscale": [
             [
              0,
              "#0d0887"
             ],
             [
              0.1111111111111111,
              "#46039f"
             ],
             [
              0.2222222222222222,
              "#7201a8"
             ],
             [
              0.3333333333333333,
              "#9c179e"
             ],
             [
              0.4444444444444444,
              "#bd3786"
             ],
             [
              0.5555555555555556,
              "#d8576b"
             ],
             [
              0.6666666666666666,
              "#ed7953"
             ],
             [
              0.7777777777777778,
              "#fb9f3a"
             ],
             [
              0.8888888888888888,
              "#fdca26"
             ],
             [
              1,
              "#f0f921"
             ]
            ],
            "type": "heatmap"
           }
          ],
          "heatmapgl": [
           {
            "colorbar": {
             "outlinewidth": 0,
             "ticks": ""
            },
            "colorscale": [
             [
              0,
              "#0d0887"
             ],
             [
              0.1111111111111111,
              "#46039f"
             ],
             [
              0.2222222222222222,
              "#7201a8"
             ],
             [
              0.3333333333333333,
              "#9c179e"
             ],
             [
              0.4444444444444444,
              "#bd3786"
             ],
             [
              0.5555555555555556,
              "#d8576b"
             ],
             [
              0.6666666666666666,
              "#ed7953"
             ],
             [
              0.7777777777777778,
              "#fb9f3a"
             ],
             [
              0.8888888888888888,
              "#fdca26"
             ],
             [
              1,
              "#f0f921"
             ]
            ],
            "type": "heatmapgl"
           }
          ],
          "histogram": [
           {
            "marker": {
             "colorbar": {
              "outlinewidth": 0,
              "ticks": ""
             }
            },
            "type": "histogram"
           }
          ],
          "histogram2d": [
           {
            "colorbar": {
             "outlinewidth": 0,
             "ticks": ""
            },
            "colorscale": [
             [
              0,
              "#0d0887"
             ],
             [
              0.1111111111111111,
              "#46039f"
             ],
             [
              0.2222222222222222,
              "#7201a8"
             ],
             [
              0.3333333333333333,
              "#9c179e"
             ],
             [
              0.4444444444444444,
              "#bd3786"
             ],
             [
              0.5555555555555556,
              "#d8576b"
             ],
             [
              0.6666666666666666,
              "#ed7953"
             ],
             [
              0.7777777777777778,
              "#fb9f3a"
             ],
             [
              0.8888888888888888,
              "#fdca26"
             ],
             [
              1,
              "#f0f921"
             ]
            ],
            "type": "histogram2d"
           }
          ],
          "histogram2dcontour": [
           {
            "colorbar": {
             "outlinewidth": 0,
             "ticks": ""
            },
            "colorscale": [
             [
              0,
              "#0d0887"
             ],
             [
              0.1111111111111111,
              "#46039f"
             ],
             [
              0.2222222222222222,
              "#7201a8"
             ],
             [
              0.3333333333333333,
              "#9c179e"
             ],
             [
              0.4444444444444444,
              "#bd3786"
             ],
             [
              0.5555555555555556,
              "#d8576b"
             ],
             [
              0.6666666666666666,
              "#ed7953"
             ],
             [
              0.7777777777777778,
              "#fb9f3a"
             ],
             [
              0.8888888888888888,
              "#fdca26"
             ],
             [
              1,
              "#f0f921"
             ]
            ],
            "type": "histogram2dcontour"
           }
          ],
          "mesh3d": [
           {
            "colorbar": {
             "outlinewidth": 0,
             "ticks": ""
            },
            "type": "mesh3d"
           }
          ],
          "parcoords": [
           {
            "line": {
             "colorbar": {
              "outlinewidth": 0,
              "ticks": ""
             }
            },
            "type": "parcoords"
           }
          ],
          "pie": [
           {
            "automargin": true,
            "type": "pie"
           }
          ],
          "scatter": [
           {
            "marker": {
             "colorbar": {
              "outlinewidth": 0,
              "ticks": ""
             }
            },
            "type": "scatter"
           }
          ],
          "scatter3d": [
           {
            "line": {
             "colorbar": {
              "outlinewidth": 0,
              "ticks": ""
             }
            },
            "marker": {
             "colorbar": {
              "outlinewidth": 0,
              "ticks": ""
             }
            },
            "type": "scatter3d"
           }
          ],
          "scattercarpet": [
           {
            "marker": {
             "colorbar": {
              "outlinewidth": 0,
              "ticks": ""
             }
            },
            "type": "scattercarpet"
           }
          ],
          "scattergeo": [
           {
            "marker": {
             "colorbar": {
              "outlinewidth": 0,
              "ticks": ""
             }
            },
            "type": "scattergeo"
           }
          ],
          "scattergl": [
           {
            "marker": {
             "colorbar": {
              "outlinewidth": 0,
              "ticks": ""
             }
            },
            "type": "scattergl"
           }
          ],
          "scattermapbox": [
           {
            "marker": {
             "colorbar": {
              "outlinewidth": 0,
              "ticks": ""
             }
            },
            "type": "scattermapbox"
           }
          ],
          "scatterpolar": [
           {
            "marker": {
             "colorbar": {
              "outlinewidth": 0,
              "ticks": ""
             }
            },
            "type": "scatterpolar"
           }
          ],
          "scatterpolargl": [
           {
            "marker": {
             "colorbar": {
              "outlinewidth": 0,
              "ticks": ""
             }
            },
            "type": "scatterpolargl"
           }
          ],
          "scatterternary": [
           {
            "marker": {
             "colorbar": {
              "outlinewidth": 0,
              "ticks": ""
             }
            },
            "type": "scatterternary"
           }
          ],
          "surface": [
           {
            "colorbar": {
             "outlinewidth": 0,
             "ticks": ""
            },
            "colorscale": [
             [
              0,
              "#0d0887"
             ],
             [
              0.1111111111111111,
              "#46039f"
             ],
             [
              0.2222222222222222,
              "#7201a8"
             ],
             [
              0.3333333333333333,
              "#9c179e"
             ],
             [
              0.4444444444444444,
              "#bd3786"
             ],
             [
              0.5555555555555556,
              "#d8576b"
             ],
             [
              0.6666666666666666,
              "#ed7953"
             ],
             [
              0.7777777777777778,
              "#fb9f3a"
             ],
             [
              0.8888888888888888,
              "#fdca26"
             ],
             [
              1,
              "#f0f921"
             ]
            ],
            "type": "surface"
           }
          ],
          "table": [
           {
            "cells": {
             "fill": {
              "color": "#EBF0F8"
             },
             "line": {
              "color": "white"
             }
            },
            "header": {
             "fill": {
              "color": "#C8D4E3"
             },
             "line": {
              "color": "white"
             }
            },
            "type": "table"
           }
          ]
         },
         "layout": {
          "annotationdefaults": {
           "arrowcolor": "#2a3f5f",
           "arrowhead": 0,
           "arrowwidth": 1
          },
          "coloraxis": {
           "colorbar": {
            "outlinewidth": 0,
            "ticks": ""
           }
          },
          "colorscale": {
           "diverging": [
            [
             0,
             "#8e0152"
            ],
            [
             0.1,
             "#c51b7d"
            ],
            [
             0.2,
             "#de77ae"
            ],
            [
             0.3,
             "#f1b6da"
            ],
            [
             0.4,
             "#fde0ef"
            ],
            [
             0.5,
             "#f7f7f7"
            ],
            [
             0.6,
             "#e6f5d0"
            ],
            [
             0.7,
             "#b8e186"
            ],
            [
             0.8,
             "#7fbc41"
            ],
            [
             0.9,
             "#4d9221"
            ],
            [
             1,
             "#276419"
            ]
           ],
           "sequential": [
            [
             0,
             "#0d0887"
            ],
            [
             0.1111111111111111,
             "#46039f"
            ],
            [
             0.2222222222222222,
             "#7201a8"
            ],
            [
             0.3333333333333333,
             "#9c179e"
            ],
            [
             0.4444444444444444,
             "#bd3786"
            ],
            [
             0.5555555555555556,
             "#d8576b"
            ],
            [
             0.6666666666666666,
             "#ed7953"
            ],
            [
             0.7777777777777778,
             "#fb9f3a"
            ],
            [
             0.8888888888888888,
             "#fdca26"
            ],
            [
             1,
             "#f0f921"
            ]
           ],
           "sequentialminus": [
            [
             0,
             "#0d0887"
            ],
            [
             0.1111111111111111,
             "#46039f"
            ],
            [
             0.2222222222222222,
             "#7201a8"
            ],
            [
             0.3333333333333333,
             "#9c179e"
            ],
            [
             0.4444444444444444,
             "#bd3786"
            ],
            [
             0.5555555555555556,
             "#d8576b"
            ],
            [
             0.6666666666666666,
             "#ed7953"
            ],
            [
             0.7777777777777778,
             "#fb9f3a"
            ],
            [
             0.8888888888888888,
             "#fdca26"
            ],
            [
             1,
             "#f0f921"
            ]
           ]
          },
          "colorway": [
           "#636efa",
           "#EF553B",
           "#00cc96",
           "#ab63fa",
           "#FFA15A",
           "#19d3f3",
           "#FF6692",
           "#B6E880",
           "#FF97FF",
           "#FECB52"
          ],
          "font": {
           "color": "#2a3f5f"
          },
          "geo": {
           "bgcolor": "white",
           "lakecolor": "white",
           "landcolor": "#E5ECF6",
           "showlakes": true,
           "showland": true,
           "subunitcolor": "white"
          },
          "hoverlabel": {
           "align": "left"
          },
          "hovermode": "closest",
          "mapbox": {
           "style": "light"
          },
          "paper_bgcolor": "white",
          "plot_bgcolor": "#E5ECF6",
          "polar": {
           "angularaxis": {
            "gridcolor": "white",
            "linecolor": "white",
            "ticks": ""
           },
           "bgcolor": "#E5ECF6",
           "radialaxis": {
            "gridcolor": "white",
            "linecolor": "white",
            "ticks": ""
           }
          },
          "scene": {
           "xaxis": {
            "backgroundcolor": "#E5ECF6",
            "gridcolor": "white",
            "gridwidth": 2,
            "linecolor": "white",
            "showbackground": true,
            "ticks": "",
            "zerolinecolor": "white"
           },
           "yaxis": {
            "backgroundcolor": "#E5ECF6",
            "gridcolor": "white",
            "gridwidth": 2,
            "linecolor": "white",
            "showbackground": true,
            "ticks": "",
            "zerolinecolor": "white"
           },
           "zaxis": {
            "backgroundcolor": "#E5ECF6",
            "gridcolor": "white",
            "gridwidth": 2,
            "linecolor": "white",
            "showbackground": true,
            "ticks": "",
            "zerolinecolor": "white"
           }
          },
          "shapedefaults": {
           "line": {
            "color": "#2a3f5f"
           }
          },
          "ternary": {
           "aaxis": {
            "gridcolor": "white",
            "linecolor": "white",
            "ticks": ""
           },
           "baxis": {
            "gridcolor": "white",
            "linecolor": "white",
            "ticks": ""
           },
           "bgcolor": "#E5ECF6",
           "caxis": {
            "gridcolor": "white",
            "linecolor": "white",
            "ticks": ""
           }
          },
          "title": {
           "x": 0.05
          },
          "xaxis": {
           "automargin": true,
           "gridcolor": "white",
           "linecolor": "white",
           "ticks": "",
           "title": {
            "standoff": 15
           },
           "zerolinecolor": "white",
           "zerolinewidth": 2
          },
          "yaxis": {
           "automargin": true,
           "gridcolor": "white",
           "linecolor": "white",
           "ticks": "",
           "title": {
            "standoff": 15
           },
           "zerolinecolor": "white",
           "zerolinewidth": 2
          }
         }
        },
        "title": {
         "text": "Website Traffic, Jan-May 2019"
        },
        "width": 800,
        "xaxis": {
         "autorange": true,
         "range": [
          0,
          17201.052631578947
         ],
         "title": {
          "text": "Visitors"
         },
         "type": "linear"
        },
        "yaxis": {
         "autorange": true,
         "range": [
          -0.5,
          9.5
         ],
         "type": "category"
        }
       }
      },
      "image/png": "[encoded data removed]",
      "text/html": [
       "<div>\n",
       "        \n",
       "        \n",
       "            <div id=\"3b7d1628-273e-40fb-a37c-32a9949f3753\" class=\"plotly-graph-div\" style=\"height:600px; width:800px;\"></div>\n",
       "            <script type=\"text/javascript\">\n",
       "                require([\"plotly\"], function(Plotly) {\n",
       "                    window.PLOTLYENV=window.PLOTLYENV || {};\n",
       "                    \n",
       "                if (document.getElementById(\"3b7d1628-273e-40fb-a37c-32a9949f3753\")) {\n",
       "                    Plotly.newPlot(\n",
       "                        '3b7d1628-273e-40fb-a37c-32a9949f3753',\n",
       "                        [{\"marker\": {\"color\": \"rgba(255, 153, 51, 0.6)\", \"line\": {\"color\": \"rgba(255, 153, 51, 1.0)\", \"width\": 1}}, \"name\": \"Page Views\", \"orientation\": \"h\", \"text\": \"\", \"type\": \"bar\", \"x\": [1144, 1193, 2075, 2611, 3007, 4477, 4944, 7285, 8574, 16341], \"y\": [\"/explore\", \"/KyleOS/running-kysos-docker-image\", \"/KyleOS/per-cap-co2\", \"/dashboard\", \"/KyleOS/bokeh-sliders\", \"/KyleOS/plotly-chart-editor\", \"/KyleOS/cufflinks-intro\", \"/KyleOS/atmospheric-co2-concentrations-2\", \"/becca/world-happiness\", \"/KyleOS/nbestimate\"]}],\n",
       "                        {\"height\": 600, \"margin\": {\"l\": 200}, \"template\": {\"data\": {\"bar\": [{\"error_x\": {\"color\": \"#2a3f5f\"}, \"error_y\": {\"color\": \"#2a3f5f\"}, \"marker\": {\"line\": {\"color\": \"#E5ECF6\", \"width\": 0.5}}, \"type\": \"bar\"}], \"barpolar\": [{\"marker\": {\"line\": {\"color\": \"#E5ECF6\", \"width\": 0.5}}, \"type\": \"barpolar\"}], \"carpet\": [{\"aaxis\": {\"endlinecolor\": \"#2a3f5f\", \"gridcolor\": \"white\", \"linecolor\": \"white\", \"minorgridcolor\": \"white\", \"startlinecolor\": \"#2a3f5f\"}, \"baxis\": {\"endlinecolor\": \"#2a3f5f\", \"gridcolor\": \"white\", \"linecolor\": \"white\", \"minorgridcolor\": \"white\", \"startlinecolor\": \"#2a3f5f\"}, \"type\": \"carpet\"}], \"choropleth\": [{\"colorbar\": {\"outlinewidth\": 0, \"ticks\": \"\"}, \"type\": \"choropleth\"}], \"contour\": [{\"colorbar\": {\"outlinewidth\": 0, \"ticks\": \"\"}, \"colorscale\": [[0.0, \"#0d0887\"], [0.1111111111111111, \"#46039f\"], [0.2222222222222222, \"#7201a8\"], [0.3333333333333333, \"#9c179e\"], [0.4444444444444444, \"#bd3786\"], [0.5555555555555556, \"#d8576b\"], [0.6666666666666666, \"#ed7953\"], [0.7777777777777778, \"#fb9f3a\"], [0.8888888888888888, \"#fdca26\"], [1.0, \"#f0f921\"]], \"type\": \"contour\"}], \"contourcarpet\": [{\"colorbar\": {\"outlinewidth\": 0, \"ticks\": \"\"}, \"type\": \"contourcarpet\"}], \"heatmap\": [{\"colorbar\": {\"outlinewidth\": 0, \"ticks\": \"\"}, \"colorscale\": [[0.0, \"#0d0887\"], [0.1111111111111111, \"#46039f\"], [0.2222222222222222, \"#7201a8\"], [0.3333333333333333, \"#9c179e\"], [0.4444444444444444, \"#bd3786\"], [0.5555555555555556, \"#d8576b\"], [0.6666666666666666, \"#ed7953\"], [0.7777777777777778, \"#fb9f3a\"], [0.8888888888888888, \"#fdca26\"], [1.0, \"#f0f921\"]], \"type\": \"heatmap\"}], \"heatmapgl\": [{\"colorbar\": {\"outlinewidth\": 0, \"ticks\": \"\"}, \"colorscale\": [[0.0, \"#0d0887\"], [0.1111111111111111, \"#46039f\"], [0.2222222222222222, \"#7201a8\"], [0.3333333333333333, \"#9c179e\"], [0.4444444444444444, \"#bd3786\"], [0.5555555555555556, \"#d8576b\"], [0.6666666666666666, \"#ed7953\"], [0.7777777777777778, \"#fb9f3a\"], [0.8888888888888888, \"#fdca26\"], [1.0, \"#f0f921\"]], \"type\": \"heatmapgl\"}], \"histogram\": [{\"marker\": {\"colorbar\": {\"outlinewidth\": 0, \"ticks\": \"\"}}, \"type\": \"histogram\"}], \"histogram2d\": [{\"colorbar\": {\"outlinewidth\": 0, \"ticks\": \"\"}, \"colorscale\": [[0.0, \"#0d0887\"], [0.1111111111111111, \"#46039f\"], [0.2222222222222222, \"#7201a8\"], [0.3333333333333333, \"#9c179e\"], [0.4444444444444444, \"#bd3786\"], [0.5555555555555556, \"#d8576b\"], [0.6666666666666666, \"#ed7953\"], [0.7777777777777778, \"#fb9f3a\"], [0.8888888888888888, \"#fdca26\"], [1.0, \"#f0f921\"]], \"type\": \"histogram2d\"}], \"histogram2dcontour\": [{\"colorbar\": {\"outlinewidth\": 0, \"ticks\": \"\"}, \"colorscale\": [[0.0, \"#0d0887\"], [0.1111111111111111, \"#46039f\"], [0.2222222222222222, \"#7201a8\"], [0.3333333333333333, \"#9c179e\"], [0.4444444444444444, \"#bd3786\"], [0.5555555555555556, \"#d8576b\"], [0.6666666666666666, \"#ed7953\"], [0.7777777777777778, \"#fb9f3a\"], [0.8888888888888888, \"#fdca26\"], [1.0, \"#f0f921\"]], \"type\": \"histogram2dcontour\"}], \"mesh3d\": [{\"colorbar\": {\"outlinewidth\": 0, \"ticks\": \"\"}, \"type\": \"mesh3d\"}], \"parcoords\": [{\"line\": {\"colorbar\": {\"outlinewidth\": 0, \"ticks\": \"\"}}, \"type\": \"parcoords\"}], \"pie\": [{\"automargin\": true, \"type\": \"pie\"}], \"scatter\": [{\"marker\": {\"colorbar\": {\"outlinewidth\": 0, \"ticks\": \"\"}}, \"type\": \"scatter\"}], \"scatter3d\": [{\"line\": {\"colorbar\": {\"outlinewidth\": 0, \"ticks\": \"\"}}, \"marker\": {\"colorbar\": {\"outlinewidth\": 0, \"ticks\": \"\"}}, \"type\": \"scatter3d\"}], \"scattercarpet\": [{\"marker\": {\"colorbar\": {\"outlinewidth\": 0, \"ticks\": \"\"}}, \"type\": \"scattercarpet\"}], \"scattergeo\": [{\"marker\": {\"colorbar\": {\"outlinewidth\": 0, \"ticks\": \"\"}}, \"type\": \"scattergeo\"}], \"scattergl\": [{\"marker\": {\"colorbar\": {\"outlinewidth\": 0, \"ticks\": \"\"}}, \"type\": \"scattergl\"}], \"scattermapbox\": [{\"marker\": {\"colorbar\": {\"outlinewidth\": 0, \"ticks\": \"\"}}, \"type\": \"scattermapbox\"}], \"scatterpolar\": [{\"marker\": {\"colorbar\": {\"outlinewidth\": 0, \"ticks\": \"\"}}, \"type\": \"scatterpolar\"}], \"scatterpolargl\": [{\"marker\": {\"colorbar\": {\"outlinewidth\": 0, \"ticks\": \"\"}}, \"type\": \"scatterpolargl\"}], \"scatterternary\": [{\"marker\": {\"colorbar\": {\"outlinewidth\": 0, \"ticks\": \"\"}}, \"type\": \"scatterternary\"}], \"surface\": [{\"colorbar\": {\"outlinewidth\": 0, \"ticks\": \"\"}, \"colorscale\": [[0.0, \"#0d0887\"], [0.1111111111111111, \"#46039f\"], [0.2222222222222222, \"#7201a8\"], [0.3333333333333333, \"#9c179e\"], [0.4444444444444444, \"#bd3786\"], [0.5555555555555556, \"#d8576b\"], [0.6666666666666666, \"#ed7953\"], [0.7777777777777778, \"#fb9f3a\"], [0.8888888888888888, \"#fdca26\"], [1.0, \"#f0f921\"]], \"type\": \"surface\"}], \"table\": [{\"cells\": {\"fill\": {\"color\": \"#EBF0F8\"}, \"line\": {\"color\": \"white\"}}, \"header\": {\"fill\": {\"color\": \"#C8D4E3\"}, \"line\": {\"color\": \"white\"}}, \"type\": \"table\"}]}, \"layout\": {\"annotationdefaults\": {\"arrowcolor\": \"#2a3f5f\", \"arrowhead\": 0, \"arrowwidth\": 1}, \"coloraxis\": {\"colorbar\": {\"outlinewidth\": 0, \"ticks\": \"\"}}, \"colorscale\": {\"diverging\": [[0, \"#8e0152\"], [0.1, \"#c51b7d\"], [0.2, \"#de77ae\"], [0.3, \"#f1b6da\"], [0.4, \"#fde0ef\"], [0.5, \"#f7f7f7\"], [0.6, \"#e6f5d0\"], [0.7, \"#b8e186\"], [0.8, \"#7fbc41\"], [0.9, \"#4d9221\"], [1, \"#276419\"]], \"sequential\": [[0.0, \"#0d0887\"], [0.1111111111111111, \"#46039f\"], [0.2222222222222222, \"#7201a8\"], [0.3333333333333333, \"#9c179e\"], [0.4444444444444444, \"#bd3786\"], [0.5555555555555556, \"#d8576b\"], [0.6666666666666666, \"#ed7953\"], [0.7777777777777778, \"#fb9f3a\"], [0.8888888888888888, \"#fdca26\"], [1.0, \"#f0f921\"]], \"sequentialminus\": [[0.0, \"#0d0887\"], [0.1111111111111111, \"#46039f\"], [0.2222222222222222, \"#7201a8\"], [0.3333333333333333, \"#9c179e\"], [0.4444444444444444, \"#bd3786\"], [0.5555555555555556, \"#d8576b\"], [0.6666666666666666, \"#ed7953\"], [0.7777777777777778, \"#fb9f3a\"], [0.8888888888888888, \"#fdca26\"], [1.0, \"#f0f921\"]]}, \"colorway\": [\"#636efa\", \"#EF553B\", \"#00cc96\", \"#ab63fa\", \"#FFA15A\", \"#19d3f3\", \"#FF6692\", \"#B6E880\", \"#FF97FF\", \"#FECB52\"], \"font\": {\"color\": \"#2a3f5f\"}, \"geo\": {\"bgcolor\": \"white\", \"lakecolor\": \"white\", \"landcolor\": \"#E5ECF6\", \"showlakes\": true, \"showland\": true, \"subunitcolor\": \"white\"}, \"hoverlabel\": {\"align\": \"left\"}, \"hovermode\": \"closest\", \"mapbox\": {\"style\": \"light\"}, \"paper_bgcolor\": \"white\", \"plot_bgcolor\": \"#E5ECF6\", \"polar\": {\"angularaxis\": {\"gridcolor\": \"white\", \"linecolor\": \"white\", \"ticks\": \"\"}, \"bgcolor\": \"#E5ECF6\", \"radialaxis\": {\"gridcolor\": \"white\", \"linecolor\": \"white\", \"ticks\": \"\"}}, \"scene\": {\"xaxis\": {\"backgroundcolor\": \"#E5ECF6\", \"gridcolor\": \"white\", \"gridwidth\": 2, \"linecolor\": \"white\", \"showbackground\": true, \"ticks\": \"\", \"zerolinecolor\": \"white\"}, \"yaxis\": {\"backgroundcolor\": \"#E5ECF6\", \"gridcolor\": \"white\", \"gridwidth\": 2, \"linecolor\": \"white\", \"showbackground\": true, \"ticks\": \"\", \"zerolinecolor\": \"white\"}, \"zaxis\": {\"backgroundcolor\": \"#E5ECF6\", \"gridcolor\": \"white\", \"gridwidth\": 2, \"linecolor\": \"white\", \"showbackground\": true, \"ticks\": \"\", \"zerolinecolor\": \"white\"}}, \"shapedefaults\": {\"line\": {\"color\": \"#2a3f5f\"}}, \"ternary\": {\"aaxis\": {\"gridcolor\": \"white\", \"linecolor\": \"white\", \"ticks\": \"\"}, \"baxis\": {\"gridcolor\": \"white\", \"linecolor\": \"white\", \"ticks\": \"\"}, \"bgcolor\": \"#E5ECF6\", \"caxis\": {\"gridcolor\": \"white\", \"linecolor\": \"white\", \"ticks\": \"\"}}, \"title\": {\"x\": 0.05}, \"xaxis\": {\"automargin\": true, \"gridcolor\": \"white\", \"linecolor\": \"white\", \"ticks\": \"\", \"title\": {\"standoff\": 15}, \"zerolinecolor\": \"white\", \"zerolinewidth\": 2}, \"yaxis\": {\"automargin\": true, \"gridcolor\": \"white\", \"linecolor\": \"white\", \"ticks\": \"\", \"title\": {\"standoff\": 15}, \"zerolinecolor\": \"white\", \"zerolinewidth\": 2}}}, \"title\": {\"text\": \"Website Traffic, Jan-May 2019\"}, \"width\": 800, \"xaxis\": {\"title\": {\"text\": \"Visitors\"}}},\n",
       "                        {\"responsive\": true}\n",
       "                    ).then(function(){\n",
       "                            \n",
       "var gd = document.getElementById('3b7d1628-273e-40fb-a37c-32a9949f3753');\n",
       "var x = new MutationObserver(function (mutations, observer) {{\n",
       "        var display = window.getComputedStyle(gd).display;\n",
       "        if (!display || display === 'none') {{\n",
       "            console.log([gd, 'removed!']);\n",
       "            Plotly.purge(gd);\n",
       "            observer.disconnect();\n",
       "        }}\n",
       "}});\n",
       "\n",
       "// Listen for the removal of the full notebook cells\n",
       "var notebookContainer = gd.closest('#notebook-container');\n",
       "if (notebookContainer) {{\n",
       "    x.observe(notebookContainer, {childList: true});\n",
       "}}\n",
       "\n",
       "// Listen for the clearing of the current output cell\n",
       "var outputEl = gd.closest('.output');\n",
       "if (outputEl) {{\n",
       "    x.observe(outputEl, {childList: true});\n",
       "}}\n",
       "\n",
       "                        })\n",
       "                };\n",
       "                });\n",
       "            </script>\n",
       "        </div>"
      ]
     },
     "metadata": {},
     "output_type": "display_data"
    },
    {
     "data": {
      "application/vnd.plotly.v1+json": {
       "config": {
        "plotlyServerURL": "https://plot.ly"
       },
       "data": [
        {
         "marker": {
          "color": "rgba(255, 153, 51, 0.6)",
          "line": {
           "color": "rgba(255, 153, 51, 1.0)",
           "width": 1
          }
         },
         "name": "Page Views",
         "orientation": "v",
         "text": "",
         "type": "bar",
         "x": [
          "?u=41ee79437b53bee916db9d76e&id=065c1a5210&awesome=no",
          "?u=41ee79437b53bee916db9d76e&id=205d14dafc&awesome=no",
          "?u=41ee79437b53bee916db9d76e&id=242d56ef94&awesome=no",
          "?u=41ee79437b53bee916db9d76e&id=3c2ace642a&awesome=no",
          "?u=41ee79437b53bee916db9d76e&id=492156e171&awesome=no",
          "?u=41ee79437b53bee916db9d76e&id=7233df77a1&awesome=no",
          "?u=41ee79437b53bee916db9d76e&id=a1e9253c8d&awesome=no",
          "?u=41ee79437b53bee916db9d76e&id=a623e3e3a4&awesome=no",
          "?u=41ee79437b53bee916db9d76e&id=b694462013&awesome=no",
          "?u=41ee79437b53bee916db9d76e&id=d7f761e8f7&awesome=no",
          "?u=41ee79437b53bee916db9d76e&id=e9ba6c4432&awesome=no",
          "AL2",
          "AdnanZaidi",
          "Aicpa",
          "Ajayso",
          "Akshay",
          "Amit",
          "AndreiL",
          "Bala",
          "Bernie1",
          "CarolineKeddie",
          "ChrisGreenwalty",
          "CianOS",
          "Coooorinne",
          "Don",
          "ElectricMonk92",
          "FHSProject139",
          "FightingInertia",
          "Gongdai",
          "GrilledChickenThighs",
          "Horace",
          "HxeZMuc",
          "ID:royhu91",
          "IanFelton",
          "IraF",
          "Jim",
          "Joseph-A-Pearson",
          "Juankboards",
          "KKaranja",
          "KshanaRules",
          "KyleOS",
          "LegitRyan",
          "LilyCaplan",
          "Luam",
          "Marcos",
          "Marcus",
          "Marvin",
          "MattWenham",
          "NicolaGiordano",
          "Norah",
          "PanditaData",
          "Prasad",
          "Ravi",
          "Revi",
          "RobertJacobson",
          "Seann",
          "Sonoiya",
          "Swat",
          "Sydney",
          "Tina808",
          "TomFaulkner",
          "Tony38100",
          "Tricky",
          "Tu",
          "UmutHope",
          "Willem",
          "ZWynne",
          "abhipsa",
          "about?u=41ee79437b53bee916db9d76e&id=605de2b765&e=2f1c3f5448&c=242d56ef94",
          "about?u=41ee79437b53bee916db9d76e&id=605de2b765&e=7e6f5ec8ed&c=d7f761e8f7",
          "about?u=41ee79437b53bee916db9d76e&id=605de2b765&e=c33da22cec&c=d7f761e8f7",
          "adautobraz",
          "adebola",
          "adithyaksk",
          "admin",
          "airicbear",
          "airstudio_raj",
          "alexiskold",
          "alexlib",
          "alice",
          "almosteverywhere",
          "alseotomorrow",
          "alvinc94",
          "amatusevsk",
          "amatusevski",
          "ample_boi",
          "anon_acl_submitter",
          "anon_emnlp",
          "answerquest",
          "araa",
          "artem",
          "ashish",
          "ashish_che",
          "ashwin-patil",
          "asim",
          "asm",
          "atsantoso",
          "auth",
          "axellea",
          "azimebrahimi",
          "badplayz",
          "barrbrain",
          "beane",
          "beaukramer",
          "becca",
          "benforest",
          "benjamin",
          "bennnnnn",
          "blogs",
          "bob",
          "borrej02",
          "bowser",
          "briainodonnell",
          "brunohanai",
          "bryant",
          "capybar",
          "carlos",
          "chappers",
          "checkout",
          "chloe_",
          "christiancollet",
          "cian",
          "codinghioo",
          "codinghood",
          "consideRatio",
          "cooper",
          "coraliewilliams",
          "create",
          "create-team",
          "cwhy",
          "cyyeh",
          "dashboard",
          "datacamp",
          "datduyng",
          "dbz-boy",
          "dcdanko",
          "dd",
          "denisov",
          "docs",
          "donovan780",
          "drmauro",
          "dwhenry",
          "dzamaleev",
          "eduardo4jesus",
          "eion",
          "ekor",
          "eliehamouche",
          "eljj",
          "elor",
          "emanuelef",
          "entropy",
          "evl2001",
          "explore",
          "fenomeno711",
          "fil",
          "file",
          "for-teams",
          "fotisk07",
          "foudezic63",
          "fredtoh",
          "friederichzapke",
          "friedrichz",
          "gabriel",
          "gammapips",
          "garrison",
          "gderosa",
          "gelas",
          "geronimo89",
          "ginodanimal",
          "git",
          "github",
          "gnestor",
          "grief_of_these_days",
          "gustavorps",
          "habi",
          "hansbakker",
          "helanadm89",
          "helena",
          "helena-",
          "helenadm89",
          "hkarbasi",
          "holytwincest",
          "http:",
          "https:",
          "iamaziz",
          "iamgy",
          "igor",
          "innercity",
          "invitation",
          "itsmuriuki",
          "j3luehawk097",
          "jacopo",
          "jagluck",
          "jamesburton",
          "jamesle",
          "jamie",
          "jan_erish",
          "jansci",
          "jeho",
          "jholden",
          "jim",
          "jkkorn",
          "jmontero",
          "joangabriel",
          "join",
          "jonathan",
          "jonathaneunice",
          "jonschull",
          "justin",
          "justinattw",
          "kate-one",
          "keithpenrod",
          "kiran",
          "kirkbrunson",
          "kkpsiren",
          "knowledge-",
          "kozyman",
          "krishna",
          "ksoshea",
          "kubahaha",
          "kylelagerquist",
          "kyleos",
          "kyso-22",
          "kyso-internal",
          "kyso-test-4",
          "kysointernaltest",
          "l",
          "labdmitriy",
          "laura",
          "lena",
          "levrado",
          "lexcode74",
          "lilycaplan",
          "lobsterlift",
          "loginnull",
          "lowereast",
          "ltra_golu",
          "lucif3r",
          "maajdl",
          "maijaliisa",
          "maituduy",
          "marcelkore",
          "marcoardia",
          "marcodambros",
          "marystovall",
          "mbellm",
          "melhussieni",
          "mferrac",
          "miguelCalado",
          "milan400",
          "milkybunny",
          "minichan5",
          "moc",
          "mohamed",
          "msank",
          "mthmtc",
          "mtodisco",
          "naiveaiguy",
          "natedake",
          "nathancooperjones",
          "nd823",
          "nehaag",
          "nickname",
          "nikhats10",
          "nikolay",
          "nipunbatra",
          "notebooks",
          "notmatt",
          "nubank",
          "odartey",
          "odogan2",
          "otsapp",
          "paduel",
          "pedroamarocosta",
          "pepe",
          "pierre_gourdain",
          "pmchugh",
          "ppeetteerrs",
          "prabhasyadav",
          "pranavprajaapti",
          "pranavprajapati",
          "preview",
          "pricing",
          "privacy",
          "profile?u=41ee79437b53bee916db9d76e&id=605de2b765&e=8578d23cae",
          "promer",
          "prusswan",
          "ptm",
          "qcat",
          "rameshsinghds",
          "raycharles",
          "red5alex",
          "renzo",
          "reset",
          "robert",
          "robmark]",
          "robmarkcole",
          "rodipardo",
          "romankazinnik",
          "rtang18",
          "sai",
          "samjett247",
          "sanakhalil",
          "sergio53",
          "settings",
          "share",
          "shelby",
          "shubhi",
          "signupundefined",
          "snaykey",
          "sonalijohari",
          "subscribe",
          "techsray",
          "tejasduseja",
          "terms",
          "theovasi",
          "thething",
          "token",
          "tuomastik",
          "unsubscribe",
          "unsubscribe?u=41ee79437b53bee916db9d76e&id=605de2b765&e=&c=b91ff87e88",
          "unsubscribe?u=41ee79437b53bee916db9d76e&id=605de2b765&e=&c=b91ff87e88#15&utm_medium=email&utm_term=0_605de2b765-065c1a5210-",
          "unsubscribe?u=41ee79437b53bee916db9d76e&id=605de2b765&e=&c=b91ff87e88#15&utm_medium=email&utm_term=0_605de2b765-065c1a5210-77540215",
          "unsubscribe?u=41ee79437b53bee916db9d76e&id=605de2b765&e=&c=b91ff87e88#15&utm_medium=email&utm_term=0_605de2b765-065c1a5210-79373723",
          "unsubscribe?u=41ee79437b53bee916db9d76e&id=605de2b765&e=&c=b91ff87e88#15&utm_medium=email&utm_term=0_605de2b765-065c1a5210-81047643",
          "unsubscribe?u=41ee79437b53bee916db9d76e&id=605de2b765&e=&c=b91ff87e88#15&utm_medium=email&utm_term=0_605de2b765-065c1a5210-81047827",
          "unsubscribe?u=41ee79437b53bee916db9d76e&id=605de2b765&e=&c=b91ff87e88#15&utm_medium=email&utm_term=0_605de2b765-065c1a5210-81222315",
          "unsubscribe?u=41ee79437b53bee916db9d76e&id=605de2b765&e=&c=b91ff87e88#15&utm_medium=email&utm_term=0_605de2b765-065c1a5210-81507119",
          "unsubscribe?u=41ee79437b53bee916db9d76e&id=605de2b765&e=&c=b91ff87e88#16&utm_medium=email&utm_term=0_605de2b765-a623e3e3a4-67240787",
          "unsubscribe?u=41ee79437b53bee916db9d76e&id=605de2b765&e=&c=b91ff87e88#16&utm_medium=email&utm_term=0_605de2b765-a623e3e3a4-72983943",
          "unsubscribe?u=41ee79437b53bee916db9d76e&id=605de2b765&e=&c=b91ff87e88#16&utm_medium=email&utm_term=0_605de2b765-a623e3e3a4-73429511",
          "unsubscribe?u=41ee79437b53bee916db9d76e&id=605de2b765&e=&c=b91ff87e88#16&utm_medium=email&utm_term=0_605de2b765-a623e3e3a4-75383531",
          "unsubscribe?u=41ee79437b53bee916db9d76e&id=605de2b765&e=&c=b91ff87e88#16&utm_medium=email&utm_term=0_605de2b765-a623e3e3a4-79373747",
          "unsubscribe?u=41ee79437b53bee916db9d76e&id=605de2b765&e=&c=b91ff87e88#16&utm_medium=email&utm_term=0_605de2b765-a623e3e3a4-79373895",
          "unsubscribe?u=41ee79437b53bee916db9d76e&id=605de2b765&e=&c=b91ff87e88#16&utm_medium=email&utm_term=0_605de2b765-a623e3e3a4-80275047",
          "unsubscribe?u=41ee79437b53bee916db9d76e&id=605de2b765&e=&c=b91ff87e88#16&utm_medium=email&utm_term=0_605de2b765-a623e3e3a4-81047771",
          "unsubscribe?u=41ee79437b53bee916db9d76e&id=605de2b765&e=&c=b91ff87e88#16&utm_medium=email&utm_term=0_605de2b765-a623e3e3a4-81047871",
          "unsubscribe?u=41ee79437b53bee916db9d76e&id=605de2b765&e=&c=b91ff87e88#17&utm_medium=email&utm_term=0_605de2b765-492156e171-67250195",
          "unsubscribe?u=41ee79437b53bee916db9d76e&id=605de2b765&e=&c=b91ff87e88#17&utm_medium=email&utm_term=0_605de2b765-492156e171-73820031",
          "unsubscribe?u=41ee79437b53bee916db9d76e&id=605de2b765&e=&c=b91ff87e88#17&utm_medium=email&utm_term=0_605de2b765-492156e171-74209523",
          "unsubscribe?u=41ee79437b53bee916db9d76e&id=605de2b765&e=&c=b91ff87e88#17&utm_medium=email&utm_term=0_605de2b765-492156e171-74209543",
          "unsubscribe?u=41ee79437b53bee916db9d76e&id=605de2b765&e=&c=b91ff87e88#17&utm_medium=email&utm_term=0_605de2b765-492156e171-76542055",
          "unsubscribe?u=41ee79437b53bee916db9d76e&id=605de2b765&e=&c=b91ff87e88#17&utm_medium=email&utm_term=0_605de2b765-492156e171-81048095",
          "unsubscribe?u=41ee79437b53bee916db9d76e&id=605de2b765&e=&c=b91ff87e88#17&utm_medium=email&utm_term=0_605de2b765-492156e171-81590855",
          "unsubscribe?u=41ee79437b53bee916db9d76e&id=605de2b765&e=&c=b91ff87e88#17&utm_medium=email&utm_term=0_605de2b765-492156e171-81696647",
          "unsubscribe?u=41ee79437b53bee916db9d76e&id=605de2b765&e=&c=b91ff87e88#18&utm_medium=email&utm_term=0_78290baf79-e9ba6c4432-",
          "unsubscribe?u=41ee79437b53bee916db9d76e&id=605de2b765&e=&c=b91ff87e88#18&utm_medium=email&utm_term=0_78290baf79-e9ba6c4432-81942731",
          "unsubscribe?u=41ee79437b53bee916db9d76e&id=605de2b765&e=&c=b91ff87e88#18&utm_medium=email&utm_term=0_78290baf79-e9ba6c4432-81944891",
          "unsubscribe?u=41ee79437b53bee916db9d76e&id=605de2b765&e=&c=b91ff87e88#18&utm_medium=email&utm_term=0_78290baf79-e9ba6c4432-81944903",
          "unsubscribe?u=41ee79437b53bee916db9d76e&id=605de2b765&e=&c=b91ff87e88#18&utm_medium=email&utm_term=0_78290baf79-e9ba6c4432-81945211",
          "unsubscribe?u=41ee79437b53bee916db9d76e&id=605de2b765&e=&c=b91ff87e88#18&utm_medium=email&utm_term=0_78290baf79-e9ba6c4432-81945571",
          "unsubscribe?u=41ee79437b53bee916db9d76e&id=605de2b765&e=&c=b91ff87e88#18&utm_medium=email&utm_term=0_78290baf79-e9ba6c4432-81945971",
          "unsubscribe?u=41ee79437b53bee916db9d76e&id=605de2b765&e=&c=b91ff87e88#18&utm_medium=email&utm_term=0_78290baf79-e9ba6c4432-81946219",
          "unsubscribe?u=41ee79437b53bee916db9d76e&id=605de2b765&e=&c=b91ff87e88#18&utm_medium=email&utm_term=0_78290baf79-e9ba6c4432-81946335",
          "unsubscribe?u=41ee79437b53bee916db9d76e&id=605de2b765&e=&c=b91ff87e88#19&utm_medium=email&utm_term=0_78290baf79-0600c20a60-81942719",
          "unsubscribe?u=41ee79437b53bee916db9d76e&id=605de2b765&e=&c=b91ff87e88#19&utm_medium=email&utm_term=0_78290baf79-0600c20a60-81943259",
          "unsubscribe?u=41ee79437b53bee916db9d76e&id=605de2b765&e=&c=b91ff87e88#19&utm_medium=email&utm_term=0_78290baf79-0600c20a60-81944803",
          "unsubscribe?u=41ee79437b53bee916db9d76e&id=605de2b765&e=&c=b91ff87e88#19&utm_medium=email&utm_term=0_78290baf79-0600c20a60-81944891",
          "unsubscribe?u=41ee79437b53bee916db9d76e&id=605de2b765&e=&c=b91ff87e88#19&utm_medium=email&utm_term=0_78290baf79-0600c20a60-81945599",
          "unsubscribe?u=41ee79437b53bee916db9d76e&id=605de2b765&e=&c=b91ff87e88#19&utm_medium=email&utm_term=0_78290baf79-0600c20a60-81946123",
          "unsubscribe?u=41ee79437b53bee916db9d76e&id=605de2b765&e=03a16b9539&c=065c1a5210",
          "unsubscribe?u=41ee79437b53bee916db9d76e&id=605de2b765&e=19d96e22b5&c=3c2ace642a",
          "unsubscribe?u=41ee79437b53bee916db9d76e&id=605de2b765&e=37b04bb319&c=3c2ace642a",
          "unsubscribe?u=41ee79437b53bee916db9d76e&id=605de2b765&e=53283f0264&c=065c1a5210",
          "unsubscribe?u=41ee79437b53bee916db9d76e&id=605de2b765&e=53a66f29dd&c=a1e9253c8d",
          "unsubscribe?u=41ee79437b53bee916db9d76e&id=605de2b765&e=54983bcf22&c=a1e9253c8d",
          "unsubscribe?u=41ee79437b53bee916db9d76e&id=605de2b765&e=6afbecf990&c=3c2ace642a",
          "unsubscribe?u=41ee79437b53bee916db9d76e&id=605de2b765&e=70b8e09003&c=a1e9253c8d",
          "unsubscribe?u=41ee79437b53bee916db9d76e&id=605de2b765&e=74ff928595&c=205d14dafc",
          "unsubscribe?u=41ee79437b53bee916db9d76e&id=605de2b765&e=7efc19b9fe&c=a1e9253c8d",
          "unsubscribe?u=41ee79437b53bee916db9d76e&id=605de2b765&e=a95bbfc37c&c=3c2ace642a",
          "unsubscribe?u=41ee79437b53bee916db9d76e&id=605de2b765&e=af714b1e81&c=d7f761e8f7",
          "unsubscribe?u=41ee79437b53bee916db9d76e&id=605de2b765&e=bcd29e33ff&c=a1e9253c8d",
          "unsubscribe?u=41ee79437b53bee916db9d76e&id=605de2b765&e=c257234906&c=242d56ef94",
          "unsubscribe?u=41ee79437b53bee916db9d76e&id=605de2b765&e=cca20ec72c&c=3c2ace642a",
          "unsubscribe?u=41ee79437b53bee916db9d76e&id=605de2b765&e=d4badd023d&c=a1e9253c8d",
          "unsubscribe?u=41ee79437b53bee916db9d76e&id=605de2b765&e=defb24ab0e&c=a623e3e3a4",
          "unsubscribe?u=41ee79437b53bee916db9d76e&id=605de2b765&e=df8f329f9a&c=242d56ef94",
          "unsubscribe?u=41ee79437b53bee916db9d76e&id=605de2b765&e=f615f6f41e&c=492156e171",
          "upload",
          "usiegj00",
          "vanaurum",
          "vatsal",
          "veda",
          "vicky",
          "vlad13",
          "vzhong",
          "waldohiding",
          "will",
          "willkoehrsen",
          "willro",
          "www.intelligencerefinery.io",
          "yann",
          "yevgeniyr1",
          "yo",
          "ytrushkov"
         ],
         "y": [
          12,
          4,
          2,
          6,
          7,
          1,
          4,
          7,
          3,
          6,
          5,
          4,
          4,
          1,
          2,
          1,
          701,
          1,
          14,
          10,
          32,
          1,
          19,
          16,
          23,
          8,
          6,
          22,
          1,
          1,
          10,
          2,
          4,
          21,
          14,
          47,
          1,
          33,
          1,
          6,
          52270,
          79,
          33,
          17,
          3,
          213,
          1,
          8,
          32,
          179,
          26,
          20,
          5,
          2,
          9,
          1,
          16,
          8,
          9,
          5,
          3,
          7,
          4,
          6,
          3,
          44,
          74,
          161,
          1,
          3,
          5,
          11,
          6,
          9,
          539,
          4,
          1,
          32,
          90,
          172,
          1,
          118,
          1,
          73,
          7,
          1,
          58,
          2,
          178,
          4,
          1,
          2,
          5,
          1,
          2,
          9,
          9,
          2,
          1,
          17,
          2,
          188,
          57,
          21,
          9194,
          1,
          8,
          8,
          1,
          9,
          4,
          2,
          5,
          6,
          2,
          13,
          1,
          5,
          52,
          9,
          6,
          20,
          3,
          29,
          8,
          1,
          58,
          258,
          46,
          1,
          6,
          2611,
          93,
          12,
          59,
          4,
          24,
          3,
          1310,
          5,
          1,
          6,
          1,
          6,
          1,
          86,
          2,
          1,
          6,
          56,
          3,
          62,
          1807,
          1,
          29,
          17,
          510,
          7,
          3,
          309,
          17,
          1,
          1,
          4,
          1,
          24,
          23,
          40,
          1,
          1,
          361,
          5,
          1,
          2,
          3,
          4,
          2,
          1,
          1,
          17,
          23,
          6,
          1,
          38,
          5,
          1,
          1,
          1,
          13,
          7,
          2,
          1,
          25,
          1,
          204,
          999,
          17,
          1,
          1,
          2,
          21,
          1,
          9,
          2,
          94,
          1,
          55,
          57,
          2,
          2,
          1,
          7,
          2,
          2,
          16,
          4,
          4,
          1,
          3,
          9,
          1,
          12,
          25,
          67,
          21,
          5,
          2,
          189,
          685,
          1,
          1,
          5,
          19,
          5,
          1,
          2,
          2,
          17,
          1,
          1,
          85,
          4,
          35,
          10,
          7,
          10,
          39,
          42,
          8,
          61,
          9,
          74,
          16,
          3,
          3,
          2,
          3,
          17,
          19,
          8,
          158,
          8,
          1,
          3,
          1,
          1,
          5,
          17,
          1,
          1,
          38,
          1,
          4,
          54,
          5,
          41,
          1,
          2,
          1,
          5,
          48,
          2,
          510,
          36,
          3,
          3,
          3,
          1,
          1,
          20,
          5,
          46,
          9,
          1,
          2,
          2,
          117,
          148,
          4,
          4,
          16,
          3,
          6,
          1,
          24,
          198,
          8,
          4,
          1,
          3,
          53,
          1,
          1,
          1,
          51,
          1,
          64,
          40,
          38,
          19,
          100,
          1,
          2,
          2,
          2,
          3,
          2,
          2,
          4,
          2,
          2,
          2,
          2,
          2,
          2,
          2,
          3,
          2,
          2,
          5,
          2,
          2,
          3,
          2,
          2,
          1,
          2,
          2,
          2,
          2,
          2,
          2,
          2,
          2,
          2,
          2,
          1,
          2,
          2,
          2,
          2,
          2,
          2,
          2,
          2,
          2,
          2,
          2,
          2,
          2,
          2,
          2,
          2,
          2,
          5,
          2,
          2,
          2,
          2,
          619,
          1,
          42,
          5,
          13,
          20,
          1,
          178,
          2,
          1,
          7,
          1,
          2,
          4,
          1,
          1,
          5
         ]
        }
       ],
       "layout": {
        "height": 600,
        "template": {
         "data": {
          "bar": [
           {
            "error_x": {
             "color": "#2a3f5f"
            },
            "error_y": {
             "color": "#2a3f5f"
            },
            "marker": {
             "line": {
              "color": "#E5ECF6",
              "width": 0.5
             }
            },
            "type": "bar"
           }
          ],
          "barpolar": [
           {
            "marker": {
             "line": {
              "color": "#E5ECF6",
              "width": 0.5
             }
            },
            "type": "barpolar"
           }
          ],
          "carpet": [
           {
            "aaxis": {
             "endlinecolor": "#2a3f5f",
             "gridcolor": "white",
             "linecolor": "white",
             "minorgridcolor": "white",
             "startlinecolor": "#2a3f5f"
            },
            "baxis": {
             "endlinecolor": "#2a3f5f",
             "gridcolor": "white",
             "linecolor": "white",
             "minorgridcolor": "white",
             "startlinecolor": "#2a3f5f"
            },
            "type": "carpet"
           }
          ],
          "choropleth": [
           {
            "colorbar": {
             "outlinewidth": 0,
             "ticks": ""
            },
            "type": "choropleth"
           }
          ],
          "contour": [
           {
            "colorbar": {
             "outlinewidth": 0,
             "ticks": ""
            },
            "colorscale": [
             [
              0,
              "#0d0887"
             ],
             [
              0.1111111111111111,
              "#46039f"
             ],
             [
              0.2222222222222222,
              "#7201a8"
             ],
             [
              0.3333333333333333,
              "#9c179e"
             ],
             [
              0.4444444444444444,
              "#bd3786"
             ],
             [
              0.5555555555555556,
              "#d8576b"
             ],
             [
              0.6666666666666666,
              "#ed7953"
             ],
             [
              0.7777777777777778,
              "#fb9f3a"
             ],
             [
              0.8888888888888888,
              "#fdca26"
             ],
             [
              1,
              "#f0f921"
             ]
            ],
            "type": "contour"
           }
          ],
          "contourcarpet": [
           {
            "colorbar": {
             "outlinewidth": 0,
             "ticks": ""
            },
            "type": "contourcarpet"
           }
          ],
          "heatmap": [
           {
            "colorbar": {
             "outlinewidth": 0,
             "ticks": ""
            },
            "colorscale": [
             [
              0,
              "#0d0887"
             ],
             [
              0.1111111111111111,
              "#46039f"
             ],
             [
              0.2222222222222222,
              "#7201a8"
             ],
             [
              0.3333333333333333,
              "#9c179e"
             ],
             [
              0.4444444444444444,
              "#bd3786"
             ],
             [
              0.5555555555555556,
              "#d8576b"
             ],
             [
              0.6666666666666666,
              "#ed7953"
             ],
             [
              0.7777777777777778,
              "#fb9f3a"
             ],
             [
              0.8888888888888888,
              "#fdca26"
             ],
             [
              1,
              "#f0f921"
             ]
            ],
            "type": "heatmap"
           }
          ],
          "heatmapgl": [
           {
            "colorbar": {
             "outlinewidth": 0,
             "ticks": ""
            },
            "colorscale": [
             [
              0,
              "#0d0887"
             ],
             [
              0.1111111111111111,
              "#46039f"
             ],
             [
              0.2222222222222222,
              "#7201a8"
             ],
             [
              0.3333333333333333,
              "#9c179e"
             ],
             [
              0.4444444444444444,
              "#bd3786"
             ],
             [
              0.5555555555555556,
              "#d8576b"
             ],
             [
              0.6666666666666666,
              "#ed7953"
             ],
             [
              0.7777777777777778,
              "#fb9f3a"
             ],
             [
              0.8888888888888888,
              "#fdca26"
             ],
             [
              1,
              "#f0f921"
             ]
            ],
            "type": "heatmapgl"
           }
          ],
          "histogram": [
           {
            "marker": {
             "colorbar": {
              "outlinewidth": 0,
              "ticks": ""
             }
            },
            "type": "histogram"
           }
          ],
          "histogram2d": [
           {
            "colorbar": {
             "outlinewidth": 0,
             "ticks": ""
            },
            "colorscale": [
             [
              0,
              "#0d0887"
             ],
             [
              0.1111111111111111,
              "#46039f"
             ],
             [
              0.2222222222222222,
              "#7201a8"
             ],
             [
              0.3333333333333333,
              "#9c179e"
             ],
             [
              0.4444444444444444,
              "#bd3786"
             ],
             [
              0.5555555555555556,
              "#d8576b"
             ],
             [
              0.6666666666666666,
              "#ed7953"
             ],
             [
              0.7777777777777778,
              "#fb9f3a"
             ],
             [
              0.8888888888888888,
              "#fdca26"
             ],
             [
              1,
              "#f0f921"
             ]
            ],
            "type": "histogram2d"
           }
          ],
          "histogram2dcontour": [
           {
            "colorbar": {
             "outlinewidth": 0,
             "ticks": ""
            },
            "colorscale": [
             [
              0,
              "#0d0887"
             ],
             [
              0.1111111111111111,
              "#46039f"
             ],
             [
              0.2222222222222222,
              "#7201a8"
             ],
             [
              0.3333333333333333,
              "#9c179e"
             ],
             [
              0.4444444444444444,
              "#bd3786"
             ],
             [
              0.5555555555555556,
              "#d8576b"
             ],
             [
              0.6666666666666666,
              "#ed7953"
             ],
             [
              0.7777777777777778,
              "#fb9f3a"
             ],
             [
              0.8888888888888888,
              "#fdca26"
             ],
             [
              1,
              "#f0f921"
             ]
            ],
            "type": "histogram2dcontour"
           }
          ],
          "mesh3d": [
           {
            "colorbar": {
             "outlinewidth": 0,
             "ticks": ""
            },
            "type": "mesh3d"
           }
          ],
          "parcoords": [
           {
            "line": {
             "colorbar": {
              "outlinewidth": 0,
              "ticks": ""
             }
            },
            "type": "parcoords"
           }
          ],
          "pie": [
           {
            "automargin": true,
            "type": "pie"
           }
          ],
          "scatter": [
           {
            "marker": {
             "colorbar": {
              "outlinewidth": 0,
              "ticks": ""
             }
            },
            "type": "scatter"
           }
          ],
          "scatter3d": [
           {
            "line": {
             "colorbar": {
              "outlinewidth": 0,
              "ticks": ""
             }
            },
            "marker": {
             "colorbar": {
              "outlinewidth": 0,
              "ticks": ""
             }
            },
            "type": "scatter3d"
           }
          ],
          "scattercarpet": [
           {
            "marker": {
             "colorbar": {
              "outlinewidth": 0,
              "ticks": ""
             }
            },
            "type": "scattercarpet"
           }
          ],
          "scattergeo": [
           {
            "marker": {
             "colorbar": {
              "outlinewidth": 0,
              "ticks": ""
             }
            },
            "type": "scattergeo"
           }
          ],
          "scattergl": [
           {
            "marker": {
             "colorbar": {
              "outlinewidth": 0,
              "ticks": ""
             }
            },
            "type": "scattergl"
           }
          ],
          "scattermapbox": [
           {
            "marker": {
             "colorbar": {
              "outlinewidth": 0,
              "ticks": ""
             }
            },
            "type": "scattermapbox"
           }
          ],
          "scatterpolar": [
           {
            "marker": {
             "colorbar": {
              "outlinewidth": 0,
              "ticks": ""
             }
            },
            "type": "scatterpolar"
           }
          ],
          "scatterpolargl": [
           {
            "marker": {
             "colorbar": {
              "outlinewidth": 0,
              "ticks": ""
             }
            },
            "type": "scatterpolargl"
           }
          ],
          "scatterternary": [
           {
            "marker": {
             "colorbar": {
              "outlinewidth": 0,
              "ticks": ""
             }
            },
            "type": "scatterternary"
           }
          ],
          "surface": [
           {
            "colorbar": {
             "outlinewidth": 0,
             "ticks": ""
            },
            "colorscale": [
             [
              0,
              "#0d0887"
             ],
             [
              0.1111111111111111,
              "#46039f"
             ],
             [
              0.2222222222222222,
              "#7201a8"
             ],
             [
              0.3333333333333333,
              "#9c179e"
             ],
             [
              0.4444444444444444,
              "#bd3786"
             ],
             [
              0.5555555555555556,
              "#d8576b"
             ],
             [
              0.6666666666666666,
              "#ed7953"
             ],
             [
              0.7777777777777778,
              "#fb9f3a"
             ],
             [
              0.8888888888888888,
              "#fdca26"
             ],
             [
              1,
              "#f0f921"
             ]
            ],
            "type": "surface"
           }
          ],
          "table": [
           {
            "cells": {
             "fill": {
              "color": "#EBF0F8"
             },
             "line": {
              "color": "white"
             }
            },
            "header": {
             "fill": {
              "color": "#C8D4E3"
             },
             "line": {
              "color": "white"
             }
            },
            "type": "table"
           }
          ]
         },
         "layout": {
          "annotationdefaults": {
           "arrowcolor": "#2a3f5f",
           "arrowhead": 0,
           "arrowwidth": 1
          },
          "coloraxis": {
           "colorbar": {
            "outlinewidth": 0,
            "ticks": ""
           }
          },
          "colorscale": {
           "diverging": [
            [
             0,
             "#8e0152"
            ],
            [
             0.1,
             "#c51b7d"
            ],
            [
             0.2,
             "#de77ae"
            ],
            [
             0.3,
             "#f1b6da"
            ],
            [
             0.4,
             "#fde0ef"
            ],
            [
             0.5,
             "#f7f7f7"
            ],
            [
             0.6,
             "#e6f5d0"
            ],
            [
             0.7,
             "#b8e186"
            ],
            [
             0.8,
             "#7fbc41"
            ],
            [
             0.9,
             "#4d9221"
            ],
            [
             1,
             "#276419"
            ]
           ],
           "sequential": [
            [
             0,
             "#0d0887"
            ],
            [
             0.1111111111111111,
             "#46039f"
            ],
            [
             0.2222222222222222,
             "#7201a8"
            ],
            [
             0.3333333333333333,
             "#9c179e"
            ],
            [
             0.4444444444444444,
             "#bd3786"
            ],
            [
             0.5555555555555556,
             "#d8576b"
            ],
            [
             0.6666666666666666,
             "#ed7953"
            ],
            [
             0.7777777777777778,
             "#fb9f3a"
            ],
            [
             0.8888888888888888,
             "#fdca26"
            ],
            [
             1,
             "#f0f921"
            ]
           ],
           "sequentialminus": [
            [
             0,
             "#0d0887"
            ],
            [
             0.1111111111111111,
             "#46039f"
            ],
            [
             0.2222222222222222,
             "#7201a8"
            ],
            [
             0.3333333333333333,
             "#9c179e"
            ],
            [
             0.4444444444444444,
             "#bd3786"
            ],
            [
             0.5555555555555556,
             "#d8576b"
            ],
            [
             0.6666666666666666,
             "#ed7953"
            ],
            [
             0.7777777777777778,
             "#fb9f3a"
            ],
            [
             0.8888888888888888,
             "#fdca26"
            ],
            [
             1,
             "#f0f921"
            ]
           ]
          },
          "colorway": [
           "#636efa",
           "#EF553B",
           "#00cc96",
           "#ab63fa",
           "#FFA15A",
           "#19d3f3",
           "#FF6692",
           "#B6E880",
           "#FF97FF",
           "#FECB52"
          ],
          "font": {
           "color": "#2a3f5f"
          },
          "geo": {
           "bgcolor": "white",
           "lakecolor": "white",
           "landcolor": "#E5ECF6",
           "showlakes": true,
           "showland": true,
           "subunitcolor": "white"
          },
          "hoverlabel": {
           "align": "left"
          },
          "hovermode": "closest",
          "mapbox": {
           "style": "light"
          },
          "paper_bgcolor": "white",
          "plot_bgcolor": "#E5ECF6",
          "polar": {
           "angularaxis": {
            "gridcolor": "white",
            "linecolor": "white",
            "ticks": ""
           },
           "bgcolor": "#E5ECF6",
           "radialaxis": {
            "gridcolor": "white",
            "linecolor": "white",
            "ticks": ""
           }
          },
          "scene": {
           "xaxis": {
            "backgroundcolor": "#E5ECF6",
            "gridcolor": "white",
            "gridwidth": 2,
            "linecolor": "white",
            "showbackground": true,
            "ticks": "",
            "zerolinecolor": "white"
           },
           "yaxis": {
            "backgroundcolor": "#E5ECF6",
            "gridcolor": "white",
            "gridwidth": 2,
            "linecolor": "white",
            "showbackground": true,
            "ticks": "",
            "zerolinecolor": "white"
           },
           "zaxis": {
            "backgroundcolor": "#E5ECF6",
            "gridcolor": "white",
            "gridwidth": 2,
            "linecolor": "white",
            "showbackground": true,
            "ticks": "",
            "zerolinecolor": "white"
           }
          },
          "shapedefaults": {
           "line": {
            "color": "#2a3f5f"
           }
          },
          "ternary": {
           "aaxis": {
            "gridcolor": "white",
            "linecolor": "white",
            "ticks": ""
           },
           "baxis": {
            "gridcolor": "white",
            "linecolor": "white",
            "ticks": ""
           },
           "bgcolor": "#E5ECF6",
           "caxis": {
            "gridcolor": "white",
            "linecolor": "white",
            "ticks": ""
           }
          },
          "title": {
           "x": 0.05
          },
          "xaxis": {
           "automargin": true,
           "gridcolor": "white",
           "linecolor": "white",
           "ticks": "",
           "title": {
            "standoff": 15
           },
           "zerolinecolor": "white",
           "zerolinewidth": 2
          },
          "yaxis": {
           "automargin": true,
           "gridcolor": "white",
           "linecolor": "white",
           "ticks": "",
           "title": {
            "standoff": 15
           },
           "zerolinecolor": "white",
           "zerolinewidth": 2
          }
         }
        },
        "title": {
         "text": "Website Traffic, Jan-May 2019"
        },
        "width": 800,
        "xaxis": {
         "autorange": true,
         "range": [
          -0.5,
          395.5
         ],
         "title": {
          "text": "Visitors"
         },
         "type": "category"
        },
        "yaxis": {
         "autorange": true,
         "range": [
          0,
          55021.05263157895
         ],
         "type": "linear"
        }
       }
      },
      "image/png": "[encoded data removed]",
      "text/html": [
       "<div>\n",
       "        \n",
       "        \n",
       "            <div id=\"3dc064d3-5899-40a8-9c89-bfcda1074443\" class=\"plotly-graph-div\" style=\"height:600px; width:800px;\"></div>\n",
       "            <script type=\"text/javascript\">\n",
       "                require([\"plotly\"], function(Plotly) {\n",
       "                    window.PLOTLYENV=window.PLOTLYENV || {};\n",
       "                    \n",
       "                if (document.getElementById(\"3dc064d3-5899-40a8-9c89-bfcda1074443\")) {\n",
       "                    Plotly.newPlot(\n",
       "                        '3dc064d3-5899-40a8-9c89-bfcda1074443',\n",
       "                        [{\"marker\": {\"color\": \"rgba(255, 153, 51, 0.6)\", \"line\": {\"color\": \"rgba(255, 153, 51, 1.0)\", \"width\": 1}}, \"name\": \"Page Views\", \"orientation\": \"v\", \"text\": \"\", \"type\": \"bar\", \"x\": [\"?u=41ee79437b53bee916db9d76e&id=065c1a5210&awesome=no\", \"?u=41ee79437b53bee916db9d76e&id=205d14dafc&awesome=no\", \"?u=41ee79437b53bee916db9d76e&id=242d56ef94&awesome=no\", \"?u=41ee79437b53bee916db9d76e&id=3c2ace642a&awesome=no\", \"?u=41ee79437b53bee916db9d76e&id=492156e171&awesome=no\", \"?u=41ee79437b53bee916db9d76e&id=7233df77a1&awesome=no\", \"?u=41ee79437b53bee916db9d76e&id=a1e9253c8d&awesome=no\", \"?u=41ee79437b53bee916db9d76e&id=a623e3e3a4&awesome=no\", \"?u=41ee79437b53bee916db9d76e&id=b694462013&awesome=no\", \"?u=41ee79437b53bee916db9d76e&id=d7f761e8f7&awesome=no\", \"?u=41ee79437b53bee916db9d76e&id=e9ba6c4432&awesome=no\", \"AL2\", \"AdnanZaidi\", \"Aicpa\", \"Ajayso\", \"Akshay\", \"Amit\", \"AndreiL\", \"Bala\", \"Bernie1\", \"CarolineKeddie\", \"ChrisGreenwalty\", \"CianOS\", \"Coooorinne\", \"Don\", \"ElectricMonk92\", \"FHSProject139\", \"FightingInertia\", \"Gongdai\", \"GrilledChickenThighs\", \"Horace\", \"HxeZMuc\", \"ID:royhu91\", \"IanFelton\", \"IraF\", \"Jim\", \"Joseph-A-Pearson\", \"Juankboards\", \"KKaranja\", \"KshanaRules\", \"KyleOS\", \"LegitRyan\", \"LilyCaplan\", \"Luam\", \"Marcos\", \"Marcus\", \"Marvin\", \"MattWenham\", \"NicolaGiordano\", \"Norah\", \"PanditaData\", \"Prasad\", \"Ravi\", \"Revi\", \"RobertJacobson\", \"Seann\", \"Sonoiya\", \"Swat\", \"Sydney\", \"Tina808\", \"TomFaulkner\", \"Tony38100\", \"Tricky\", \"Tu\", \"UmutHope\", \"Willem\", \"ZWynne\", \"abhipsa\", \"about?u=41ee79437b53bee916db9d76e&id=605de2b765&e=2f1c3f5448&c=242d56ef94\", \"about?u=41ee79437b53bee916db9d76e&id=605de2b765&e=7e6f5ec8ed&c=d7f761e8f7\", \"about?u=41ee79437b53bee916db9d76e&id=605de2b765&e=c33da22cec&c=d7f761e8f7\", \"adautobraz\", \"adebola\", \"adithyaksk\", \"admin\", \"airicbear\", \"airstudio_raj\", \"alexiskold\", \"alexlib\", \"alice\", \"almosteverywhere\", \"alseotomorrow\", \"alvinc94\", \"amatusevsk\", \"amatusevski\", \"ample_boi\", \"anon_acl_submitter\", \"anon_emnlp\", \"answerquest\", \"araa\", \"artem\", \"ashish\", \"ashish_che\", \"ashwin-patil\", \"asim\", \"asm\", \"atsantoso\", \"auth\", \"axellea\", \"azimebrahimi\", \"badplayz\", \"barrbrain\", \"beane\", \"beaukramer\", \"becca\", \"benforest\", \"benjamin\", \"bennnnnn\", \"blogs\", \"bob\", \"borrej02\", \"bowser\", \"briainodonnell\", \"brunohanai\", \"bryant\", \"capybar\", \"carlos\", \"chappers\", \"checkout\", \"chloe_\", \"christiancollet\", \"cian\", \"codinghioo\", \"codinghood\", \"consideRatio\", \"cooper\", \"coraliewilliams\", \"create\", \"create-team\", \"cwhy\", \"cyyeh\", \"dashboard\", \"datacamp\", \"datduyng\", \"dbz-boy\", \"dcdanko\", \"dd\", \"denisov\", \"docs\", \"donovan780\", \"drmauro\", \"dwhenry\", \"dzamaleev\", \"eduardo4jesus\", \"eion\", \"ekor\", \"eliehamouche\", \"eljj\", \"elor\", \"emanuelef\", \"entropy\", \"evl2001\", \"explore\", \"fenomeno711\", \"fil\", \"file\", \"for-teams\", \"fotisk07\", \"foudezic63\", \"fredtoh\", \"friederichzapke\", \"friedrichz\", \"gabriel\", \"gammapips\", \"garrison\", \"gderosa\", \"gelas\", \"geronimo89\", \"ginodanimal\", \"git\", \"github\", \"gnestor\", \"grief_of_these_days\", \"gustavorps\", \"habi\", \"hansbakker\", \"helanadm89\", \"helena\", \"helena-\", \"helenadm89\", \"hkarbasi\", \"holytwincest\", \"http:\", \"https:\", \"iamaziz\", \"iamgy\", \"igor\", \"innercity\", \"invitation\", \"itsmuriuki\", \"j3luehawk097\", \"jacopo\", \"jagluck\", \"jamesburton\", \"jamesle\", \"jamie\", \"jan_erish\", \"jansci\", \"jeho\", \"jholden\", \"jim\", \"jkkorn\", \"jmontero\", \"joangabriel\", \"join\", \"jonathan\", \"jonathaneunice\", \"jonschull\", \"justin\", \"justinattw\", \"kate-one\", \"keithpenrod\", \"kiran\", \"kirkbrunson\", \"kkpsiren\", \"knowledge-\", \"kozyman\", \"krishna\", \"ksoshea\", \"kubahaha\", \"kylelagerquist\", \"kyleos\", \"kyso-22\", \"kyso-internal\", \"kyso-test-4\", \"kysointernaltest\", \"l\", \"labdmitriy\", \"laura\", \"lena\", \"levrado\", \"lexcode74\", \"lilycaplan\", \"lobsterlift\", \"loginnull\", \"lowereast\", \"ltra_golu\", \"lucif3r\", \"maajdl\", \"maijaliisa\", \"maituduy\", \"marcelkore\", \"marcoardia\", \"marcodambros\", \"marystovall\", \"mbellm\", \"melhussieni\", \"mferrac\", \"miguelCalado\", \"milan400\", \"milkybunny\", \"minichan5\", \"moc\", \"mohamed\", \"msank\", \"mthmtc\", \"mtodisco\", \"naiveaiguy\", \"natedake\", \"nathancooperjones\", \"nd823\", \"nehaag\", \"nickname\", \"nikhats10\", \"nikolay\", \"nipunbatra\", \"notebooks\", \"notmatt\", \"nubank\", \"odartey\", \"odogan2\", \"otsapp\", \"paduel\", \"pedroamarocosta\", \"pepe\", \"pierre_gourdain\", \"pmchugh\", \"ppeetteerrs\", \"prabhasyadav\", \"pranavprajaapti\", \"pranavprajapati\", \"preview\", \"pricing\", \"privacy\", \"profile?u=41ee79437b53bee916db9d76e&id=605de2b765&e=8578d23cae\", \"promer\", \"prusswan\", \"ptm\", \"qcat\", \"rameshsinghds\", \"raycharles\", \"red5alex\", \"renzo\", \"reset\", \"robert\", \"robmark]\", \"robmarkcole\", \"rodipardo\", \"romankazinnik\", \"rtang18\", \"sai\", \"samjett247\", \"sanakhalil\", \"sergio53\", \"settings\", \"share\", \"shelby\", \"shubhi\", \"signupundefined\", \"snaykey\", \"sonalijohari\", \"subscribe\", \"techsray\", \"tejasduseja\", \"terms\", \"theovasi\", \"thething\", \"token\", \"tuomastik\", \"unsubscribe\", \"unsubscribe?u=41ee79437b53bee916db9d76e&id=605de2b765&e=&c=b91ff87e88\", \"unsubscribe?u=41ee79437b53bee916db9d76e&id=605de2b765&e=&c=b91ff87e88#15&utm_medium=email&utm_term=0_605de2b765-065c1a5210-\", \"unsubscribe?u=41ee79437b53bee916db9d76e&id=605de2b765&e=&c=b91ff87e88#15&utm_medium=email&utm_term=0_605de2b765-065c1a5210-77540215\", \"unsubscribe?u=41ee79437b53bee916db9d76e&id=605de2b765&e=&c=b91ff87e88#15&utm_medium=email&utm_term=0_605de2b765-065c1a5210-79373723\", \"unsubscribe?u=41ee79437b53bee916db9d76e&id=605de2b765&e=&c=b91ff87e88#15&utm_medium=email&utm_term=0_605de2b765-065c1a5210-81047643\", \"unsubscribe?u=41ee79437b53bee916db9d76e&id=605de2b765&e=&c=b91ff87e88#15&utm_medium=email&utm_term=0_605de2b765-065c1a5210-81047827\", \"unsubscribe?u=41ee79437b53bee916db9d76e&id=605de2b765&e=&c=b91ff87e88#15&utm_medium=email&utm_term=0_605de2b765-065c1a5210-81222315\", \"unsubscribe?u=41ee79437b53bee916db9d76e&id=605de2b765&e=&c=b91ff87e88#15&utm_medium=email&utm_term=0_605de2b765-065c1a5210-81507119\", \"unsubscribe?u=41ee79437b53bee916db9d76e&id=605de2b765&e=&c=b91ff87e88#16&utm_medium=email&utm_term=0_605de2b765-a623e3e3a4-67240787\", \"unsubscribe?u=41ee79437b53bee916db9d76e&id=605de2b765&e=&c=b91ff87e88#16&utm_medium=email&utm_term=0_605de2b765-a623e3e3a4-72983943\", \"unsubscribe?u=41ee79437b53bee916db9d76e&id=605de2b765&e=&c=b91ff87e88#16&utm_medium=email&utm_term=0_605de2b765-a623e3e3a4-73429511\", \"unsubscribe?u=41ee79437b53bee916db9d76e&id=605de2b765&e=&c=b91ff87e88#16&utm_medium=email&utm_term=0_605de2b765-a623e3e3a4-75383531\", \"unsubscribe?u=41ee79437b53bee916db9d76e&id=605de2b765&e=&c=b91ff87e88#16&utm_medium=email&utm_term=0_605de2b765-a623e3e3a4-79373747\", \"unsubscribe?u=41ee79437b53bee916db9d76e&id=605de2b765&e=&c=b91ff87e88#16&utm_medium=email&utm_term=0_605de2b765-a623e3e3a4-79373895\", \"unsubscribe?u=41ee79437b53bee916db9d76e&id=605de2b765&e=&c=b91ff87e88#16&utm_medium=email&utm_term=0_605de2b765-a623e3e3a4-80275047\", \"unsubscribe?u=41ee79437b53bee916db9d76e&id=605de2b765&e=&c=b91ff87e88#16&utm_medium=email&utm_term=0_605de2b765-a623e3e3a4-81047771\", \"unsubscribe?u=41ee79437b53bee916db9d76e&id=605de2b765&e=&c=b91ff87e88#16&utm_medium=email&utm_term=0_605de2b765-a623e3e3a4-81047871\", \"unsubscribe?u=41ee79437b53bee916db9d76e&id=605de2b765&e=&c=b91ff87e88#17&utm_medium=email&utm_term=0_605de2b765-492156e171-67250195\", \"unsubscribe?u=41ee79437b53bee916db9d76e&id=605de2b765&e=&c=b91ff87e88#17&utm_medium=email&utm_term=0_605de2b765-492156e171-73820031\", \"unsubscribe?u=41ee79437b53bee916db9d76e&id=605de2b765&e=&c=b91ff87e88#17&utm_medium=email&utm_term=0_605de2b765-492156e171-74209523\", \"unsubscribe?u=41ee79437b53bee916db9d76e&id=605de2b765&e=&c=b91ff87e88#17&utm_medium=email&utm_term=0_605de2b765-492156e171-74209543\", \"unsubscribe?u=41ee79437b53bee916db9d76e&id=605de2b765&e=&c=b91ff87e88#17&utm_medium=email&utm_term=0_605de2b765-492156e171-76542055\", \"unsubscribe?u=41ee79437b53bee916db9d76e&id=605de2b765&e=&c=b91ff87e88#17&utm_medium=email&utm_term=0_605de2b765-492156e171-81048095\", \"unsubscribe?u=41ee79437b53bee916db9d76e&id=605de2b765&e=&c=b91ff87e88#17&utm_medium=email&utm_term=0_605de2b765-492156e171-81590855\", \"unsubscribe?u=41ee79437b53bee916db9d76e&id=605de2b765&e=&c=b91ff87e88#17&utm_medium=email&utm_term=0_605de2b765-492156e171-81696647\", \"unsubscribe?u=41ee79437b53bee916db9d76e&id=605de2b765&e=&c=b91ff87e88#18&utm_medium=email&utm_term=0_78290baf79-e9ba6c4432-\", \"unsubscribe?u=41ee79437b53bee916db9d76e&id=605de2b765&e=&c=b91ff87e88#18&utm_medium=email&utm_term=0_78290baf79-e9ba6c4432-81942731\", \"unsubscribe?u=41ee79437b53bee916db9d76e&id=605de2b765&e=&c=b91ff87e88#18&utm_medium=email&utm_term=0_78290baf79-e9ba6c4432-81944891\", \"unsubscribe?u=41ee79437b53bee916db9d76e&id=605de2b765&e=&c=b91ff87e88#18&utm_medium=email&utm_term=0_78290baf79-e9ba6c4432-81944903\", \"unsubscribe?u=41ee79437b53bee916db9d76e&id=605de2b765&e=&c=b91ff87e88#18&utm_medium=email&utm_term=0_78290baf79-e9ba6c4432-81945211\", \"unsubscribe?u=41ee79437b53bee916db9d76e&id=605de2b765&e=&c=b91ff87e88#18&utm_medium=email&utm_term=0_78290baf79-e9ba6c4432-81945571\", \"unsubscribe?u=41ee79437b53bee916db9d76e&id=605de2b765&e=&c=b91ff87e88#18&utm_medium=email&utm_term=0_78290baf79-e9ba6c4432-81945971\", \"unsubscribe?u=41ee79437b53bee916db9d76e&id=605de2b765&e=&c=b91ff87e88#18&utm_medium=email&utm_term=0_78290baf79-e9ba6c4432-81946219\", \"unsubscribe?u=41ee79437b53bee916db9d76e&id=605de2b765&e=&c=b91ff87e88#18&utm_medium=email&utm_term=0_78290baf79-e9ba6c4432-81946335\", \"unsubscribe?u=41ee79437b53bee916db9d76e&id=605de2b765&e=&c=b91ff87e88#19&utm_medium=email&utm_term=0_78290baf79-0600c20a60-81942719\", \"unsubscribe?u=41ee79437b53bee916db9d76e&id=605de2b765&e=&c=b91ff87e88#19&utm_medium=email&utm_term=0_78290baf79-0600c20a60-81943259\", \"unsubscribe?u=41ee79437b53bee916db9d76e&id=605de2b765&e=&c=b91ff87e88#19&utm_medium=email&utm_term=0_78290baf79-0600c20a60-81944803\", \"unsubscribe?u=41ee79437b53bee916db9d76e&id=605de2b765&e=&c=b91ff87e88#19&utm_medium=email&utm_term=0_78290baf79-0600c20a60-81944891\", \"unsubscribe?u=41ee79437b53bee916db9d76e&id=605de2b765&e=&c=b91ff87e88#19&utm_medium=email&utm_term=0_78290baf79-0600c20a60-81945599\", \"unsubscribe?u=41ee79437b53bee916db9d76e&id=605de2b765&e=&c=b91ff87e88#19&utm_medium=email&utm_term=0_78290baf79-0600c20a60-81946123\", \"unsubscribe?u=41ee79437b53bee916db9d76e&id=605de2b765&e=03a16b9539&c=065c1a5210\", \"unsubscribe?u=41ee79437b53bee916db9d76e&id=605de2b765&e=19d96e22b5&c=3c2ace642a\", \"unsubscribe?u=41ee79437b53bee916db9d76e&id=605de2b765&e=37b04bb319&c=3c2ace642a\", \"unsubscribe?u=41ee79437b53bee916db9d76e&id=605de2b765&e=53283f0264&c=065c1a5210\", \"unsubscribe?u=41ee79437b53bee916db9d76e&id=605de2b765&e=53a66f29dd&c=a1e9253c8d\", \"unsubscribe?u=41ee79437b53bee916db9d76e&id=605de2b765&e=54983bcf22&c=a1e9253c8d\", \"unsubscribe?u=41ee79437b53bee916db9d76e&id=605de2b765&e=6afbecf990&c=3c2ace642a\", \"unsubscribe?u=41ee79437b53bee916db9d76e&id=605de2b765&e=70b8e09003&c=a1e9253c8d\", \"unsubscribe?u=41ee79437b53bee916db9d76e&id=605de2b765&e=74ff928595&c=205d14dafc\", \"unsubscribe?u=41ee79437b53bee916db9d76e&id=605de2b765&e=7efc19b9fe&c=a1e9253c8d\", \"unsubscribe?u=41ee79437b53bee916db9d76e&id=605de2b765&e=a95bbfc37c&c=3c2ace642a\", \"unsubscribe?u=41ee79437b53bee916db9d76e&id=605de2b765&e=af714b1e81&c=d7f761e8f7\", \"unsubscribe?u=41ee79437b53bee916db9d76e&id=605de2b765&e=bcd29e33ff&c=a1e9253c8d\", \"unsubscribe?u=41ee79437b53bee916db9d76e&id=605de2b765&e=c257234906&c=242d56ef94\", \"unsubscribe?u=41ee79437b53bee916db9d76e&id=605de2b765&e=cca20ec72c&c=3c2ace642a\", \"unsubscribe?u=41ee79437b53bee916db9d76e&id=605de2b765&e=d4badd023d&c=a1e9253c8d\", \"unsubscribe?u=41ee79437b53bee916db9d76e&id=605de2b765&e=defb24ab0e&c=a623e3e3a4\", \"unsubscribe?u=41ee79437b53bee916db9d76e&id=605de2b765&e=df8f329f9a&c=242d56ef94\", \"unsubscribe?u=41ee79437b53bee916db9d76e&id=605de2b765&e=f615f6f41e&c=492156e171\", \"upload\", \"usiegj00\", \"vanaurum\", \"vatsal\", \"veda\", \"vicky\", \"vlad13\", \"vzhong\", \"waldohiding\", \"will\", \"willkoehrsen\", \"willro\", \"www.intelligencerefinery.io\", \"yann\", \"yevgeniyr1\", \"yo\", \"ytrushkov\"], \"y\": [12, 4, 2, 6, 7, 1, 4, 7, 3, 6, 5, 4, 4, 1, 2, 1, 701, 1, 14, 10, 32, 1, 19, 16, 23, 8, 6, 22, 1, 1, 10, 2, 4, 21, 14, 47, 1, 33, 1, 6, 52270, 79, 33, 17, 3, 213, 1, 8, 32, 179, 26, 20, 5, 2, 9, 1, 16, 8, 9, 5, 3, 7, 4, 6, 3, 44, 74, 161, 1, 3, 5, 11, 6, 9, 539, 4, 1, 32, 90, 172, 1, 118, 1, 73, 7, 1, 58, 2, 178, 4, 1, 2, 5, 1, 2, 9, 9, 2, 1, 17, 2, 188, 57, 21, 9194, 1, 8, 8, 1, 9, 4, 2, 5, 6, 2, 13, 1, 5, 52, 9, 6, 20, 3, 29, 8, 1, 58, 258, 46, 1, 6, 2611, 93, 12, 59, 4, 24, 3, 1310, 5, 1, 6, 1, 6, 1, 86, 2, 1, 6, 56, 3, 62, 1807, 1, 29, 17, 510, 7, 3, 309, 17, 1, 1, 4, 1, 24, 23, 40, 1, 1, 361, 5, 1, 2, 3, 4, 2, 1, 1, 17, 23, 6, 1, 38, 5, 1, 1, 1, 13, 7, 2, 1, 25, 1, 204, 999, 17, 1, 1, 2, 21, 1, 9, 2, 94, 1, 55, 57, 2, 2, 1, 7, 2, 2, 16, 4, 4, 1, 3, 9, 1, 12, 25, 67, 21, 5, 2, 189, 685, 1, 1, 5, 19, 5, 1, 2, 2, 17, 1, 1, 85, 4, 35, 10, 7, 10, 39, 42, 8, 61, 9, 74, 16, 3, 3, 2, 3, 17, 19, 8, 158, 8, 1, 3, 1, 1, 5, 17, 1, 1, 38, 1, 4, 54, 5, 41, 1, 2, 1, 5, 48, 2, 510, 36, 3, 3, 3, 1, 1, 20, 5, 46, 9, 1, 2, 2, 117, 148, 4, 4, 16, 3, 6, 1, 24, 198, 8, 4, 1, 3, 53, 1, 1, 1, 51, 1, 64, 40, 38, 19, 100, 1, 2, 2, 2, 3, 2, 2, 4, 2, 2, 2, 2, 2, 2, 2, 3, 2, 2, 5, 2, 2, 3, 2, 2, 1, 2, 2, 2, 2, 2, 2, 2, 2, 2, 2, 1, 2, 2, 2, 2, 2, 2, 2, 2, 2, 2, 2, 2, 2, 2, 2, 2, 2, 5, 2, 2, 2, 2, 619, 1, 42, 5, 13, 20, 1, 178, 2, 1, 7, 1, 2, 4, 1, 1, 5]}],\n",
       "                        {\"height\": 600, \"template\": {\"data\": {\"bar\": [{\"error_x\": {\"color\": \"#2a3f5f\"}, \"error_y\": {\"color\": \"#2a3f5f\"}, \"marker\": {\"line\": {\"color\": \"#E5ECF6\", \"width\": 0.5}}, \"type\": \"bar\"}], \"barpolar\": [{\"marker\": {\"line\": {\"color\": \"#E5ECF6\", \"width\": 0.5}}, \"type\": \"barpolar\"}], \"carpet\": [{\"aaxis\": {\"endlinecolor\": \"#2a3f5f\", \"gridcolor\": \"white\", \"linecolor\": \"white\", \"minorgridcolor\": \"white\", \"startlinecolor\": \"#2a3f5f\"}, \"baxis\": {\"endlinecolor\": \"#2a3f5f\", \"gridcolor\": \"white\", \"linecolor\": \"white\", \"minorgridcolor\": \"white\", \"startlinecolor\": \"#2a3f5f\"}, \"type\": \"carpet\"}], \"choropleth\": [{\"colorbar\": {\"outlinewidth\": 0, \"ticks\": \"\"}, \"type\": \"choropleth\"}], \"contour\": [{\"colorbar\": {\"outlinewidth\": 0, \"ticks\": \"\"}, \"colorscale\": [[0.0, \"#0d0887\"], [0.1111111111111111, \"#46039f\"], [0.2222222222222222, \"#7201a8\"], [0.3333333333333333, \"#9c179e\"], [0.4444444444444444, \"#bd3786\"], [0.5555555555555556, \"#d8576b\"], [0.6666666666666666, \"#ed7953\"], [0.7777777777777778, \"#fb9f3a\"], [0.8888888888888888, \"#fdca26\"], [1.0, \"#f0f921\"]], \"type\": \"contour\"}], \"contourcarpet\": [{\"colorbar\": {\"outlinewidth\": 0, \"ticks\": \"\"}, \"type\": \"contourcarpet\"}], \"heatmap\": [{\"colorbar\": {\"outlinewidth\": 0, \"ticks\": \"\"}, \"colorscale\": [[0.0, \"#0d0887\"], [0.1111111111111111, \"#46039f\"], [0.2222222222222222, \"#7201a8\"], [0.3333333333333333, \"#9c179e\"], [0.4444444444444444, \"#bd3786\"], [0.5555555555555556, \"#d8576b\"], [0.6666666666666666, \"#ed7953\"], [0.7777777777777778, \"#fb9f3a\"], [0.8888888888888888, \"#fdca26\"], [1.0, \"#f0f921\"]], \"type\": \"heatmap\"}], \"heatmapgl\": [{\"colorbar\": {\"outlinewidth\": 0, \"ticks\": \"\"}, \"colorscale\": [[0.0, \"#0d0887\"], [0.1111111111111111, \"#46039f\"], [0.2222222222222222, \"#7201a8\"], [0.3333333333333333, \"#9c179e\"], [0.4444444444444444, \"#bd3786\"], [0.5555555555555556, \"#d8576b\"], [0.6666666666666666, \"#ed7953\"], [0.7777777777777778, \"#fb9f3a\"], [0.8888888888888888, \"#fdca26\"], [1.0, \"#f0f921\"]], \"type\": \"heatmapgl\"}], \"histogram\": [{\"marker\": {\"colorbar\": {\"outlinewidth\": 0, \"ticks\": \"\"}}, \"type\": \"histogram\"}], \"histogram2d\": [{\"colorbar\": {\"outlinewidth\": 0, \"ticks\": \"\"}, \"colorscale\": [[0.0, \"#0d0887\"], [0.1111111111111111, \"#46039f\"], [0.2222222222222222, \"#7201a8\"], [0.3333333333333333, \"#9c179e\"], [0.4444444444444444, \"#bd3786\"], [0.5555555555555556, \"#d8576b\"], [0.6666666666666666, \"#ed7953\"], [0.7777777777777778, \"#fb9f3a\"], [0.8888888888888888, \"#fdca26\"], [1.0, \"#f0f921\"]], \"type\": \"histogram2d\"}], \"histogram2dcontour\": [{\"colorbar\": {\"outlinewidth\": 0, \"ticks\": \"\"}, \"colorscale\": [[0.0, \"#0d0887\"], [0.1111111111111111, \"#46039f\"], [0.2222222222222222, \"#7201a8\"], [0.3333333333333333, \"#9c179e\"], [0.4444444444444444, \"#bd3786\"], [0.5555555555555556, \"#d8576b\"], [0.6666666666666666, \"#ed7953\"], [0.7777777777777778, \"#fb9f3a\"], [0.8888888888888888, \"#fdca26\"], [1.0, \"#f0f921\"]], \"type\": \"histogram2dcontour\"}], \"mesh3d\": [{\"colorbar\": {\"outlinewidth\": 0, \"ticks\": \"\"}, \"type\": \"mesh3d\"}], \"parcoords\": [{\"line\": {\"colorbar\": {\"outlinewidth\": 0, \"ticks\": \"\"}}, \"type\": \"parcoords\"}], \"pie\": [{\"automargin\": true, \"type\": \"pie\"}], \"scatter\": [{\"marker\": {\"colorbar\": {\"outlinewidth\": 0, \"ticks\": \"\"}}, \"type\": \"scatter\"}], \"scatter3d\": [{\"line\": {\"colorbar\": {\"outlinewidth\": 0, \"ticks\": \"\"}}, \"marker\": {\"colorbar\": {\"outlinewidth\": 0, \"ticks\": \"\"}}, \"type\": \"scatter3d\"}], \"scattercarpet\": [{\"marker\": {\"colorbar\": {\"outlinewidth\": 0, \"ticks\": \"\"}}, \"type\": \"scattercarpet\"}], \"scattergeo\": [{\"marker\": {\"colorbar\": {\"outlinewidth\": 0, \"ticks\": \"\"}}, \"type\": \"scattergeo\"}], \"scattergl\": [{\"marker\": {\"colorbar\": {\"outlinewidth\": 0, \"ticks\": \"\"}}, \"type\": \"scattergl\"}], \"scattermapbox\": [{\"marker\": {\"colorbar\": {\"outlinewidth\": 0, \"ticks\": \"\"}}, \"type\": \"scattermapbox\"}], \"scatterpolar\": [{\"marker\": {\"colorbar\": {\"outlinewidth\": 0, \"ticks\": \"\"}}, \"type\": \"scatterpolar\"}], \"scatterpolargl\": [{\"marker\": {\"colorbar\": {\"outlinewidth\": 0, \"ticks\": \"\"}}, \"type\": \"scatterpolargl\"}], \"scatterternary\": [{\"marker\": {\"colorbar\": {\"outlinewidth\": 0, \"ticks\": \"\"}}, \"type\": \"scatterternary\"}], \"surface\": [{\"colorbar\": {\"outlinewidth\": 0, \"ticks\": \"\"}, \"colorscale\": [[0.0, \"#0d0887\"], [0.1111111111111111, \"#46039f\"], [0.2222222222222222, \"#7201a8\"], [0.3333333333333333, \"#9c179e\"], [0.4444444444444444, \"#bd3786\"], [0.5555555555555556, \"#d8576b\"], [0.6666666666666666, \"#ed7953\"], [0.7777777777777778, \"#fb9f3a\"], [0.8888888888888888, \"#fdca26\"], [1.0, \"#f0f921\"]], \"type\": \"surface\"}], \"table\": [{\"cells\": {\"fill\": {\"color\": \"#EBF0F8\"}, \"line\": {\"color\": \"white\"}}, \"header\": {\"fill\": {\"color\": \"#C8D4E3\"}, \"line\": {\"color\": \"white\"}}, \"type\": \"table\"}]}, \"layout\": {\"annotationdefaults\": {\"arrowcolor\": \"#2a3f5f\", \"arrowhead\": 0, \"arrowwidth\": 1}, \"coloraxis\": {\"colorbar\": {\"outlinewidth\": 0, \"ticks\": \"\"}}, \"colorscale\": {\"diverging\": [[0, \"#8e0152\"], [0.1, \"#c51b7d\"], [0.2, \"#de77ae\"], [0.3, \"#f1b6da\"], [0.4, \"#fde0ef\"], [0.5, \"#f7f7f7\"], [0.6, \"#e6f5d0\"], [0.7, \"#b8e186\"], [0.8, \"#7fbc41\"], [0.9, \"#4d9221\"], [1, \"#276419\"]], \"sequential\": [[0.0, \"#0d0887\"], [0.1111111111111111, \"#46039f\"], [0.2222222222222222, \"#7201a8\"], [0.3333333333333333, \"#9c179e\"], [0.4444444444444444, \"#bd3786\"], [0.5555555555555556, \"#d8576b\"], [0.6666666666666666, \"#ed7953\"], [0.7777777777777778, \"#fb9f3a\"], [0.8888888888888888, \"#fdca26\"], [1.0, \"#f0f921\"]], \"sequentialminus\": [[0.0, \"#0d0887\"], [0.1111111111111111, \"#46039f\"], [0.2222222222222222, \"#7201a8\"], [0.3333333333333333, \"#9c179e\"], [0.4444444444444444, \"#bd3786\"], [0.5555555555555556, \"#d8576b\"], [0.6666666666666666, \"#ed7953\"], [0.7777777777777778, \"#fb9f3a\"], [0.8888888888888888, \"#fdca26\"], [1.0, \"#f0f921\"]]}, \"colorway\": [\"#636efa\", \"#EF553B\", \"#00cc96\", \"#ab63fa\", \"#FFA15A\", \"#19d3f3\", \"#FF6692\", \"#B6E880\", \"#FF97FF\", \"#FECB52\"], \"font\": {\"color\": \"#2a3f5f\"}, \"geo\": {\"bgcolor\": \"white\", \"lakecolor\": \"white\", \"landcolor\": \"#E5ECF6\", \"showlakes\": true, \"showland\": true, \"subunitcolor\": \"white\"}, \"hoverlabel\": {\"align\": \"left\"}, \"hovermode\": \"closest\", \"mapbox\": {\"style\": \"light\"}, \"paper_bgcolor\": \"white\", \"plot_bgcolor\": \"#E5ECF6\", \"polar\": {\"angularaxis\": {\"gridcolor\": \"white\", \"linecolor\": \"white\", \"ticks\": \"\"}, \"bgcolor\": \"#E5ECF6\", \"radialaxis\": {\"gridcolor\": \"white\", \"linecolor\": \"white\", \"ticks\": \"\"}}, \"scene\": {\"xaxis\": {\"backgroundcolor\": \"#E5ECF6\", \"gridcolor\": \"white\", \"gridwidth\": 2, \"linecolor\": \"white\", \"showbackground\": true, \"ticks\": \"\", \"zerolinecolor\": \"white\"}, \"yaxis\": {\"backgroundcolor\": \"#E5ECF6\", \"gridcolor\": \"white\", \"gridwidth\": 2, \"linecolor\": \"white\", \"showbackground\": true, \"ticks\": \"\", \"zerolinecolor\": \"white\"}, \"zaxis\": {\"backgroundcolor\": \"#E5ECF6\", \"gridcolor\": \"white\", \"gridwidth\": 2, \"linecolor\": \"white\", \"showbackground\": true, \"ticks\": \"\", \"zerolinecolor\": \"white\"}}, \"shapedefaults\": {\"line\": {\"color\": \"#2a3f5f\"}}, \"ternary\": {\"aaxis\": {\"gridcolor\": \"white\", \"linecolor\": \"white\", \"ticks\": \"\"}, \"baxis\": {\"gridcolor\": \"white\", \"linecolor\": \"white\", \"ticks\": \"\"}, \"bgcolor\": \"#E5ECF6\", \"caxis\": {\"gridcolor\": \"white\", \"linecolor\": \"white\", \"ticks\": \"\"}}, \"title\": {\"x\": 0.05}, \"xaxis\": {\"automargin\": true, \"gridcolor\": \"white\", \"linecolor\": \"white\", \"ticks\": \"\", \"title\": {\"standoff\": 15}, \"zerolinecolor\": \"white\", \"zerolinewidth\": 2}, \"yaxis\": {\"automargin\": true, \"gridcolor\": \"white\", \"linecolor\": \"white\", \"ticks\": \"\", \"title\": {\"standoff\": 15}, \"zerolinecolor\": \"white\", \"zerolinewidth\": 2}}}, \"title\": {\"text\": \"Website Traffic, Jan-May 2019\"}, \"width\": 800, \"xaxis\": {\"title\": {\"text\": \"Visitors\"}}},\n",
       "                        {\"responsive\": true}\n",
       "                    ).then(function(){\n",
       "                            \n",
       "var gd = document.getElementById('3dc064d3-5899-40a8-9c89-bfcda1074443');\n",
       "var x = new MutationObserver(function (mutations, observer) {{\n",
       "        var display = window.getComputedStyle(gd).display;\n",
       "        if (!display || display === 'none') {{\n",
       "            console.log([gd, 'removed!']);\n",
       "            Plotly.purge(gd);\n",
       "            observer.disconnect();\n",
       "        }}\n",
       "}});\n",
       "\n",
       "// Listen for the removal of the full notebook cells\n",
       "var notebookContainer = gd.closest('#notebook-container');\n",
       "if (notebookContainer) {{\n",
       "    x.observe(notebookContainer, {childList: true});\n",
       "}}\n",
       "\n",
       "// Listen for the clearing of the current output cell\n",
       "var outputEl = gd.closest('.output');\n",
       "if (outputEl) {{\n",
       "    x.observe(outputEl, {childList: true});\n",
       "}}\n",
       "\n",
       "                        })\n",
       "                };\n",
       "                });\n",
       "            </script>\n",
       "        </div>"
      ]
     },
     "metadata": {},
     "output_type": "display_data"
    }
   ],
   "source": [
    "temp_df = df_landing_pages.groupby(['Landing Page'],as_index=True)['Page Views'].mean().sort_values(ascending=False)[1:].head(10)\n",
    "\n",
    "layout = cf.Layout(\n",
    "    height = 600,\n",
    "    width = 800,\n",
    "    xaxis = dict(title = 'Visitors'),\n",
    "    title = 'Website Traffic, Jan-May 2019'\n",
    ")\n",
    "\n",
    "fig = temp_df.sort_values().\\\n",
    "    iplot(asFigure=True,\n",
    "          kind = 'barh',\n",
    "         layout=layout)\n",
    "    \n",
    "fig.update_layout(\n",
    "    margin=dict(l=200),\n",
    ")\n",
    "\n",
    "fig.show()\n",
    "\n",
    "df_landing_pages['Landing Page'] = df_landing_pages['Landing Page'].str.rsplit('/',expand=True)[1]\n",
    "df_landing_pages = df_landing_pages.iloc[1:]\n",
    "df_landing_pages = pd.DataFrame(df_landing_pages.groupby(['Landing Page'],as_index=True)['Page Views'].sum())\n",
    "df_landing_pages.iplot(asFigure=True,layout=layout, kind='bar')"
   ]
  },
  {
   "cell_type": "markdown",
   "metadata": {},
   "source": [
    "- We can see that the regular articles in their journal drives the most traffic overall.\n",
    "- However, this might be because their are simply more *Journal* articles being published that *Templates* or *Tutorials*."
   ]
  },
  {
   "cell_type": "markdown",
   "metadata": {},
   "source": [
    "### What Is The Quality Of This Content?\n",
    "\n",
    "- One way to proxy this is to calculate the distribution of session duration and bounce rates across our different types of landing pages.\n",
    "- We already have the data available so let's go straight into plotting."
   ]
  },
  {
   "cell_type": "code",
   "execution_count": 14,
   "metadata": {},
   "outputs": [
    {
     "ename": "KeyError",
     "evalue": "\"Columns not found: 'Bounce Rate', 'Avg Session Duration'\"",
     "output_type": "error",
     "traceback": [
      "\u001b[0;31m---------------------------------------------------------------------------\u001b[0m",
      "\u001b[0;31mKeyError\u001b[0m                                  Traceback (most recent call last)",
      "\u001b[0;32m<ipython-input-14-691ee3988204>\u001b[0m in \u001b[0;36m<module>\u001b[0;34m\u001b[0m\n\u001b[1;32m      5\u001b[0m )\n\u001b[1;32m      6\u001b[0m \u001b[0;34m\u001b[0m\u001b[0m\n\u001b[0;32m----> 7\u001b[0;31m fig = df_landing_pages.groupby('Landing Page')[['Page Views','Avg Session Duration','Bounce Rate']].mean().iplot(asFigure=True, kind='bar', \n\u001b[0m\u001b[1;32m      8\u001b[0m                                                                                               \u001b[0msubplots\u001b[0m\u001b[0;34m=\u001b[0m\u001b[0;32mTrue\u001b[0m\u001b[0;34m,\u001b[0m \u001b[0msubplot_titles\u001b[0m\u001b[0;34m=\u001b[0m\u001b[0;32mTrue\u001b[0m\u001b[0;34m,\u001b[0m\u001b[0;34m\u001b[0m\u001b[0;34m\u001b[0m\u001b[0m\n\u001b[1;32m      9\u001b[0m                                                                                                     legend=False)\n",
      "\u001b[0;32m~/opt/anaconda3/envs/dev/lib/python3.8/site-packages/pandas/core/groupby/generic.py\u001b[0m in \u001b[0;36m__getitem__\u001b[0;34m(self, key)\u001b[0m\n\u001b[1;32m   1601\u001b[0m                 \u001b[0mstacklevel\u001b[0m\u001b[0;34m=\u001b[0m\u001b[0;36m2\u001b[0m\u001b[0;34m,\u001b[0m\u001b[0;34m\u001b[0m\u001b[0;34m\u001b[0m\u001b[0m\n\u001b[1;32m   1602\u001b[0m             )\n\u001b[0;32m-> 1603\u001b[0;31m         \u001b[0;32mreturn\u001b[0m \u001b[0msuper\u001b[0m\u001b[0;34m(\u001b[0m\u001b[0;34m)\u001b[0m\u001b[0;34m.\u001b[0m\u001b[0m__getitem__\u001b[0m\u001b[0;34m(\u001b[0m\u001b[0mkey\u001b[0m\u001b[0;34m)\u001b[0m\u001b[0;34m\u001b[0m\u001b[0;34m\u001b[0m\u001b[0m\n\u001b[0m\u001b[1;32m   1604\u001b[0m \u001b[0;34m\u001b[0m\u001b[0m\n\u001b[1;32m   1605\u001b[0m     \u001b[0;32mdef\u001b[0m \u001b[0m_gotitem\u001b[0m\u001b[0;34m(\u001b[0m\u001b[0mself\u001b[0m\u001b[0;34m,\u001b[0m \u001b[0mkey\u001b[0m\u001b[0;34m,\u001b[0m \u001b[0mndim\u001b[0m\u001b[0;34m:\u001b[0m \u001b[0mint\u001b[0m\u001b[0;34m,\u001b[0m \u001b[0msubset\u001b[0m\u001b[0;34m=\u001b[0m\u001b[0;32mNone\u001b[0m\u001b[0;34m)\u001b[0m\u001b[0;34m:\u001b[0m\u001b[0;34m\u001b[0m\u001b[0;34m\u001b[0m\u001b[0m\n",
      "\u001b[0;32m~/opt/anaconda3/envs/dev/lib/python3.8/site-packages/pandas/core/base.py\u001b[0m in \u001b[0;36m__getitem__\u001b[0;34m(self, key)\u001b[0m\n\u001b[1;32m    218\u001b[0m             \u001b[0;32mif\u001b[0m \u001b[0mlen\u001b[0m\u001b[0;34m(\u001b[0m\u001b[0mself\u001b[0m\u001b[0;34m.\u001b[0m\u001b[0mobj\u001b[0m\u001b[0;34m.\u001b[0m\u001b[0mcolumns\u001b[0m\u001b[0;34m.\u001b[0m\u001b[0mintersection\u001b[0m\u001b[0;34m(\u001b[0m\u001b[0mkey\u001b[0m\u001b[0;34m)\u001b[0m\u001b[0;34m)\u001b[0m \u001b[0;34m!=\u001b[0m \u001b[0mlen\u001b[0m\u001b[0;34m(\u001b[0m\u001b[0mkey\u001b[0m\u001b[0;34m)\u001b[0m\u001b[0;34m:\u001b[0m\u001b[0;34m\u001b[0m\u001b[0;34m\u001b[0m\u001b[0m\n\u001b[1;32m    219\u001b[0m                 \u001b[0mbad_keys\u001b[0m \u001b[0;34m=\u001b[0m \u001b[0mlist\u001b[0m\u001b[0;34m(\u001b[0m\u001b[0mset\u001b[0m\u001b[0;34m(\u001b[0m\u001b[0mkey\u001b[0m\u001b[0;34m)\u001b[0m\u001b[0;34m.\u001b[0m\u001b[0mdifference\u001b[0m\u001b[0;34m(\u001b[0m\u001b[0mself\u001b[0m\u001b[0;34m.\u001b[0m\u001b[0mobj\u001b[0m\u001b[0;34m.\u001b[0m\u001b[0mcolumns\u001b[0m\u001b[0;34m)\u001b[0m\u001b[0;34m)\u001b[0m\u001b[0;34m\u001b[0m\u001b[0;34m\u001b[0m\u001b[0m\n\u001b[0;32m--> 220\u001b[0;31m                 \u001b[0;32mraise\u001b[0m \u001b[0mKeyError\u001b[0m\u001b[0;34m(\u001b[0m\u001b[0;34mf\"Columns not found: {str(bad_keys)[1:-1]}\"\u001b[0m\u001b[0;34m)\u001b[0m\u001b[0;34m\u001b[0m\u001b[0;34m\u001b[0m\u001b[0m\n\u001b[0m\u001b[1;32m    221\u001b[0m             \u001b[0;32mreturn\u001b[0m \u001b[0mself\u001b[0m\u001b[0;34m.\u001b[0m\u001b[0m_gotitem\u001b[0m\u001b[0;34m(\u001b[0m\u001b[0mlist\u001b[0m\u001b[0;34m(\u001b[0m\u001b[0mkey\u001b[0m\u001b[0;34m)\u001b[0m\u001b[0;34m,\u001b[0m \u001b[0mndim\u001b[0m\u001b[0;34m=\u001b[0m\u001b[0;36m2\u001b[0m\u001b[0;34m)\u001b[0m\u001b[0;34m\u001b[0m\u001b[0;34m\u001b[0m\u001b[0m\n\u001b[1;32m    222\u001b[0m \u001b[0;34m\u001b[0m\u001b[0m\n",
      "\u001b[0;31mKeyError\u001b[0m: \"Columns not found: 'Bounce Rate', 'Avg Session Duration'\""
     ]
    }
   ],
   "source": [
    "layout = cf.Layout(\n",
    "    height = 600,\n",
    "    width = 800,\n",
    "    title = 'Measuring Quality of Content'\n",
    ")\n",
    "\n",
    "fig = df_landing_pages.groupby('Landing Page')[['Page Views','Avg Session Duration','Bounce Rate']].mean().iplot(asFigure=True, kind='bar', \n",
    "                                                                                              subplots=True, subplot_titles=True, \n",
    "                                                                                                    legend=False)\n",
    "\n",
    "fig.layout.height = 600\n",
    "fig.layout.width = 800\n",
    "fig.layout.template = 'plotly'\n",
    "\n",
    "fig.layout.yaxis2.ticksuffix = 's'\n",
    "fig.layout.yaxis3.ticksuffix = '%'\n",
    "\n",
    "fig.show()"
   ]
  },
  {
   "cell_type": "code",
   "execution_count": null,
   "metadata": {},
   "outputs": [],
   "source": []
  }
 ],
 "metadata": {
  "kernelspec": {
   "display_name": "Python 3",
   "language": "python",
   "name": "python3"
  },
  "language_info": {
   "codemirror_mode": {
    "name": "ipython",
    "version": 3
   },
   "file_extension": ".py",
   "mimetype": "text/x-python",
   "name": "python",
   "nbconvert_exporter": "python",
   "pygments_lexer": "ipython3",
   "version": "3.8.2"
  }
 },
 "nbformat": 4,
 "nbformat_minor": 4
}
