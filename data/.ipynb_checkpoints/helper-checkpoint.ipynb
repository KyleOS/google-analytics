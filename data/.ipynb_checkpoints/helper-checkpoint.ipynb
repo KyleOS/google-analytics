{
 "cells": [
  {
   "cell_type": "markdown",
   "metadata": {},
   "source": [
    "## Dummy Data"
   ]
  },
  {
   "cell_type": "code",
   "execution_count": 4,
   "metadata": {},
   "outputs": [],
   "source": [
    "def parseResponse(reponse):\n",
    "    dim = []\n",
    "    val = []\n",
    "    # open file and read the content in a list\n",
    "    with open('data/data_'+str(reponse)+'_1.txt', 'r') as filehandle:\n",
    "        for line in filehandle:\n",
    "            temp = line[:-1]\n",
    "            dim.append(temp)\n",
    "            \n",
    "    with open('data/data_'+str(reponse)+'_2.txt', 'r') as filehandle:\n",
    "        for line in filehandle:\n",
    "            temp = line[:-1]\n",
    "            temp = temp.replace(\"[\",\"\").replace(\"]\",\"\").replace(\"'\",\"\")\n",
    "            #temp = temp.replace(\"'\",\"\")\n",
    "            temp = temp.split(',')\n",
    "            temp_list = []\n",
    "            for e in temp:\n",
    "                temp_list.append(e)\n",
    "            val.append(temp_list)\n",
    "            \n",
    "    return dim,val"
   ]
  },
  {
   "cell_type": "code",
   "execution_count": 5,
   "metadata": {},
   "outputs": [],
   "source": [
    "def main(request):\n",
    "    res = 0\n",
    "    if request == {\n",
    "                'viewId': VIEW_ID, \n",
    "                'dateRanges': [{'startDate': '2019-01-01', \n",
    "                                'endDate': '2019-06-01'}],\n",
    "                'metrics': [{'expression': 'ga:sessions'}], \n",
    "                'dimensions': [{\"name\":\"ga:yearweek\"}], \n",
    "                'filtersExpression':'ga:medium=~(none)'\n",
    "            }:\n",
    "        res = 1\n",
    "    elif request == {\n",
    "                'viewId': VIEW_ID, \n",
    "                'dateRanges': [{'startDate': '2019-01-01', \n",
    "                                'endDate': '2019-06-01'}],\n",
    "                'metrics': [{'expression': 'ga:sessions'}], \n",
    "                'dimensions': [{\"name\":\"ga:yearweek\"}], \n",
    "                'filtersExpression':'ga:medium!=~(none)'\n",
    "            }:\n",
    "        res = 2\n",
    "    elif request == {\n",
    "                'viewId': VIEW_ID, \n",
    "                'dateRanges': [{'startDate': '2019-01-01', \n",
    "                                'endDate': '2019-06-01'}],\n",
    "                'metrics': [{'expression': 'ga:pageviews'},\n",
    "                            {'expression': 'ga:avgSessionDuration'},\n",
    "                           {'expression': 'ga:bounceRate'}], \n",
    "                'dimensions': [{\"name\":\"ga:landingPagePath\"}],\n",
    "                'orderBys': [{\"fieldName\": \"ga:pageviews\", \"sortOrder\": \"DESCENDING\"}], \n",
    "            }:\n",
    "        res = 3\n",
    "    return res\n",
    "        "
   ]
  },
  {
   "cell_type": "code",
   "execution_count": null,
   "metadata": {},
   "outputs": [],
   "source": []
  }
 ],
 "metadata": {
  "kernelspec": {
   "display_name": "Python 3",
   "language": "python",
   "name": "python3"
  },
  "language_info": {
   "codemirror_mode": {
    "name": "ipython",
    "version": 3
   },
   "file_extension": ".py",
   "mimetype": "text/x-python",
   "name": "python",
   "nbconvert_exporter": "python",
   "pygments_lexer": "ipython3",
   "version": "3.6.4"
  }
 },
 "nbformat": 4,
 "nbformat_minor": 2
}
